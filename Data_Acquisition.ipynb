{
 "cells": [
  {
   "cell_type": "code",
   "execution_count": 1,
   "id": "a560afb2",
   "metadata": {},
   "outputs": [],
   "source": [
    "# imports\n",
    "import requests\n",
    "import pandas as pd\n",
    "import acquire\n",
    "import env\n",
    "import os"
   ]
  },
  {
   "cell_type": "markdown",
   "id": "63b655f4",
   "metadata": {},
   "source": [
    "1.)Using the code from the lesson as a guide and the REST API from https://python.zgulde.net/api/v1/items as we did in the lesson, create a dataframe named items that has all of the data for items.\n"
   ]
  },
  {
   "cell_type": "code",
   "execution_count": 2,
   "id": "2eee2676",
   "metadata": {},
   "outputs": [],
   "source": [
    "def items_data():\n",
    "\n",
    "    # establish a filename for the local csv\n",
    "    filename = 'items.csv'\n",
    "    # check to see if a local copy already exists. \n",
    "    if os.path.exists(filename):\n",
    "        print('Reading from local CSV...')\n",
    "        # if so, return the local csv\n",
    "        return pd.read_csv(filename)\n",
    "    # otherwise, pull the data from the api:\n",
    "    \n",
    "    # establish domain and endpoint for usl\n",
    "    domain = 'https://api.data.codeup.com'\n",
    "    endpoint = '/api/v1/items'\n",
    "    print('No local csv available. \\nReading data from ', domain + endpoint, '...')\n",
    "    \n",
    "    # establish empty list for storing data\n",
    "    items = []\n",
    "    \n",
    "    # establish counter for printing progress report\n",
    "    page_number = 0\n",
    "    \n",
    "    # check whether there is another page of data to be read\n",
    "    while endpoint != None:\n",
    "        # add one to the counter\n",
    "        page_number += 1\n",
    "        # re-establish url as the next page\n",
    "        url = domain + endpoint\n",
    "        # make the request\n",
    "        response = requests.get(url)\n",
    "        # read the response as json\n",
    "        data = response.json()\n",
    "        # add items to the list\n",
    "        items.extend(data['payload']['items'])\n",
    "        # print progress report\n",
    "        print('page # ', page_number, ' data acquired. ', len(items), ' items in list.')\n",
    "        # establish url for the next page\n",
    "        endpoint = data['payload']['next_page']\n",
    "    # print results\n",
    "    print(page_number, 'page(s) acquired. No more pages available.')\n",
    "\n",
    "    # create a dataframe\n",
    "    df = pd.DataFrame(items)\n",
    "    \n",
    "    # store a copy as a local csv\n",
    "    print('Writing to local file ', filename, '...')\n",
    "    df.to_csv('items.csv', index=False)\n",
    "    \n",
    "    # return the resulting dataframe\n",
    "    return df"
   ]
  },
  {
   "cell_type": "code",
   "execution_count": 3,
   "id": "fb53a934",
   "metadata": {},
   "outputs": [
    {
     "name": "stdout",
     "output_type": "stream",
     "text": [
      "Reading from local CSV...\n"
     ]
    }
   ],
   "source": [
    "df = items_data()"
   ]
  },
  {
   "cell_type": "code",
   "execution_count": 4,
   "id": "24b2df4a",
   "metadata": {},
   "outputs": [
    {
     "data": {
      "text/html": [
       "<div>\n",
       "<style scoped>\n",
       "    .dataframe tbody tr th:only-of-type {\n",
       "        vertical-align: middle;\n",
       "    }\n",
       "\n",
       "    .dataframe tbody tr th {\n",
       "        vertical-align: top;\n",
       "    }\n",
       "\n",
       "    .dataframe thead th {\n",
       "        text-align: right;\n",
       "    }\n",
       "</style>\n",
       "<table border=\"1\" class=\"dataframe\">\n",
       "  <thead>\n",
       "    <tr style=\"text-align: right;\">\n",
       "      <th></th>\n",
       "      <th>item_brand</th>\n",
       "      <th>item_id</th>\n",
       "      <th>item_name</th>\n",
       "      <th>item_price</th>\n",
       "      <th>item_upc12</th>\n",
       "      <th>item_upc14</th>\n",
       "    </tr>\n",
       "  </thead>\n",
       "  <tbody>\n",
       "    <tr>\n",
       "      <th>0</th>\n",
       "      <td>Riceland</td>\n",
       "      <td>1</td>\n",
       "      <td>Riceland American Jazmine Rice</td>\n",
       "      <td>0.84</td>\n",
       "      <td>35200264013</td>\n",
       "      <td>35200264013</td>\n",
       "    </tr>\n",
       "    <tr>\n",
       "      <th>1</th>\n",
       "      <td>Caress</td>\n",
       "      <td>2</td>\n",
       "      <td>Caress Velvet Bliss Ultra Silkening Beauty Bar...</td>\n",
       "      <td>6.44</td>\n",
       "      <td>11111065925</td>\n",
       "      <td>11111065925</td>\n",
       "    </tr>\n",
       "    <tr>\n",
       "      <th>2</th>\n",
       "      <td>Earths Best</td>\n",
       "      <td>3</td>\n",
       "      <td>Earths Best Organic Fruit Yogurt Smoothie Mixe...</td>\n",
       "      <td>2.43</td>\n",
       "      <td>23923330139</td>\n",
       "      <td>23923330139</td>\n",
       "    </tr>\n",
       "  </tbody>\n",
       "</table>\n",
       "</div>"
      ],
      "text/plain": [
       "    item_brand  item_id                                          item_name  \\\n",
       "0     Riceland        1                     Riceland American Jazmine Rice   \n",
       "1       Caress        2  Caress Velvet Bliss Ultra Silkening Beauty Bar...   \n",
       "2  Earths Best        3  Earths Best Organic Fruit Yogurt Smoothie Mixe...   \n",
       "\n",
       "   item_price   item_upc12   item_upc14  \n",
       "0        0.84  35200264013  35200264013  \n",
       "1        6.44  11111065925  11111065925  \n",
       "2        2.43  23923330139  23923330139  "
      ]
     },
     "execution_count": 4,
     "metadata": {},
     "output_type": "execute_result"
    }
   ],
   "source": [
    "df.head(3)"
   ]
  },
  {
   "cell_type": "markdown",
   "id": "977c5964",
   "metadata": {},
   "source": [
    "2.)Do the same thing, but for stores (https://python.zgulde.net/api/v1/stores)\n"
   ]
  },
  {
   "cell_type": "code",
   "execution_count": 5,
   "id": "18b6c46a",
   "metadata": {},
   "outputs": [],
   "source": [
    "def stores_data():\n",
    "\n",
    "    # establish a filename for the local csv\n",
    "    filename = 'stores.csv'\n",
    "    # check to see if a local copy already exists. \n",
    "    if os.path.exists(filename):\n",
    "        print('Reading from local CSV...')\n",
    "        # if so, return the local csv\n",
    "        return pd.read_csv(filename)\n",
    "    # otherwise, pull the data from the api:\n",
    "    \n",
    "    # establish domain and endpoint for usl\n",
    "    domain = 'https://api.data.codeup.com'\n",
    "    endpoint = '/api/v1/stores'\n",
    "    print('No local csv available. \\nReading data from ', domain + endpoint, '...')\n",
    "    \n",
    "    # establish empty list for storing data\n",
    "    stores = []\n",
    "    \n",
    "    # establish counter for printing progress report\n",
    "    page_number = 0\n",
    "    \n",
    "    # check whether there is another page of data to be read\n",
    "    while endpoint != None:\n",
    "        # add one to the counter\n",
    "        page_number += 1\n",
    "        # re-establish url as the next page\n",
    "        url = domain + endpoint\n",
    "        # make the request\n",
    "        response = requests.get(url)\n",
    "        # read the response as json\n",
    "        data = response.json()\n",
    "        # add items to the list\n",
    "        stores.extend(data['payload']['stores'])\n",
    "        # print progress report\n",
    "        print('page # ', page_number, ' data acquired. ', len(stores), ' stores in list.')\n",
    "        # establish url for the next page\n",
    "        endpoint = data['payload']['next_page']\n",
    "    # print results\n",
    "    print(page_number, 'page(s) acquired. No more pages available.')\n",
    "\n",
    "    # create a dataframe\n",
    "    df = pd.DataFrame(stores)\n",
    "    \n",
    "    # store a copy as a local csv\n",
    "    print('Writing to local file ', filename, '...')\n",
    "    df.to_csv('stores.csv', index=False)\n",
    "    \n",
    "    # return the resulting dataframe\n",
    "    return df\n"
   ]
  },
  {
   "cell_type": "code",
   "execution_count": 6,
   "id": "0b62cd61",
   "metadata": {},
   "outputs": [
    {
     "name": "stdout",
     "output_type": "stream",
     "text": [
      "Reading from local CSV...\n"
     ]
    }
   ],
   "source": [
    "df = stores_data()"
   ]
  },
  {
   "cell_type": "code",
   "execution_count": 7,
   "id": "2e5d6967",
   "metadata": {},
   "outputs": [
    {
     "data": {
      "text/html": [
       "<div>\n",
       "<style scoped>\n",
       "    .dataframe tbody tr th:only-of-type {\n",
       "        vertical-align: middle;\n",
       "    }\n",
       "\n",
       "    .dataframe tbody tr th {\n",
       "        vertical-align: top;\n",
       "    }\n",
       "\n",
       "    .dataframe thead th {\n",
       "        text-align: right;\n",
       "    }\n",
       "</style>\n",
       "<table border=\"1\" class=\"dataframe\">\n",
       "  <thead>\n",
       "    <tr style=\"text-align: right;\">\n",
       "      <th></th>\n",
       "      <th>store_address</th>\n",
       "      <th>store_city</th>\n",
       "      <th>store_id</th>\n",
       "      <th>store_state</th>\n",
       "      <th>store_zipcode</th>\n",
       "    </tr>\n",
       "  </thead>\n",
       "  <tbody>\n",
       "    <tr>\n",
       "      <th>0</th>\n",
       "      <td>12125 Alamo Ranch Pkwy</td>\n",
       "      <td>San Antonio</td>\n",
       "      <td>1</td>\n",
       "      <td>TX</td>\n",
       "      <td>78253</td>\n",
       "    </tr>\n",
       "    <tr>\n",
       "      <th>1</th>\n",
       "      <td>9255 FM 471 West</td>\n",
       "      <td>San Antonio</td>\n",
       "      <td>2</td>\n",
       "      <td>TX</td>\n",
       "      <td>78251</td>\n",
       "    </tr>\n",
       "    <tr>\n",
       "      <th>2</th>\n",
       "      <td>2118 Fredericksburg Rdj</td>\n",
       "      <td>San Antonio</td>\n",
       "      <td>3</td>\n",
       "      <td>TX</td>\n",
       "      <td>78201</td>\n",
       "    </tr>\n",
       "  </tbody>\n",
       "</table>\n",
       "</div>"
      ],
      "text/plain": [
       "             store_address   store_city  store_id store_state  store_zipcode\n",
       "0   12125 Alamo Ranch Pkwy  San Antonio         1          TX          78253\n",
       "1         9255 FM 471 West  San Antonio         2          TX          78251\n",
       "2  2118 Fredericksburg Rdj  San Antonio         3          TX          78201"
      ]
     },
     "execution_count": 7,
     "metadata": {},
     "output_type": "execute_result"
    }
   ],
   "source": [
    "df.head(3)"
   ]
  },
  {
   "cell_type": "markdown",
   "id": "1f27c002",
   "metadata": {},
   "source": [
    "3.) Extract the data for sales (https://python.zgulde.net/api/v1/sales). There are a lot of pages of data here, so your code will need to be a little more complex. Your code should continue fetching data from the next page until all of the data is extracted."
   ]
  },
  {
   "cell_type": "code",
   "execution_count": 8,
   "id": "de57147a",
   "metadata": {},
   "outputs": [],
   "source": [
    "def sales_data():\n",
    "\n",
    "    # establish a filename for the local csv\n",
    "    filename = 'sales.csv'\n",
    "    # check to see if a local copy already exists. \n",
    "    if os.path.exists(filename):\n",
    "        print('Reading from local CSV...')\n",
    "        # if so, return the local csv\n",
    "        return pd.read_csv(filename)\n",
    "    # otherwise, pull the data from the api:\n",
    "    \n",
    "    # establish domain and endpoint for usl\n",
    "    domain = 'https://api.data.codeup.com'\n",
    "    endpoint = '/api/v1/sales'\n",
    "    print('No local csv available. \\nReading data from ', domain + endpoint, '...')\n",
    "    \n",
    "    # establish empty list for storing data\n",
    "    sales = []\n",
    "    \n",
    "    # establish counter for printing progress report\n",
    "    page_number = 0\n",
    "    \n",
    "    # check whether there is another page of data to be read\n",
    "    while endpoint != None:\n",
    "        # add one to the counter\n",
    "        page_number += 1\n",
    "        # re-establish url as the next page\n",
    "        url = domain + endpoint\n",
    "        # make the request\n",
    "        response = requests.get(url)\n",
    "        # read the response as json\n",
    "        data = response.json()\n",
    "        # add items to the list\n",
    "        sales.extend(data['payload']['sales'])\n",
    "        # print progress report\n",
    "        print('page # ', page_number, ' data acquired. ', len(sales), ' sales in list.')\n",
    "        # establish url for the next page\n",
    "        endpoint = data['payload']['next_page']\n",
    "    # print results\n",
    "    print(page_number, 'page(s) acquired. No more pages available.')\n",
    "\n",
    "    # create a dataframe\n",
    "    df = pd.DataFrame(sales)\n",
    "    \n",
    "    # store a copy as a local csv\n",
    "    print('Writing to local file ', filename, '...')\n",
    "    df.to_csv('sales.csv', index=False)\n",
    "    \n",
    "    # return the resulting dataframe\n",
    "    return df"
   ]
  },
  {
   "cell_type": "code",
   "execution_count": 9,
   "id": "bb8627c2",
   "metadata": {},
   "outputs": [
    {
     "name": "stdout",
     "output_type": "stream",
     "text": [
      "Reading from local CSV...\n"
     ]
    }
   ],
   "source": [
    "df = sales_data()"
   ]
  },
  {
   "cell_type": "markdown",
   "id": "2bd85aef",
   "metadata": {},
   "source": [
    "4.)Save the data in your files to local csv files so that it will be faster to access in the future.\n"
   ]
  },
  {
   "cell_type": "markdown",
   "id": "e0a947b8",
   "metadata": {},
   "source": [
    "## All files saves to local csv files"
   ]
  },
  {
   "cell_type": "markdown",
   "id": "cbb952d8",
   "metadata": {},
   "source": [
    "5.)Combine the data from your three separate dataframes into one large dataframe.\n"
   ]
  },
  {
   "cell_type": "code",
   "execution_count": 11,
   "id": "780008df",
   "metadata": {},
   "outputs": [
    {
     "name": "stdout",
     "output_type": "stream",
     "text": [
      "Reading from local CSV...\n"
     ]
    }
   ],
   "source": [
    "items = items_data()"
   ]
  },
  {
   "cell_type": "code",
   "execution_count": 12,
   "id": "d65f06e8",
   "metadata": {},
   "outputs": [
    {
     "name": "stdout",
     "output_type": "stream",
     "text": [
      "Reading from local CSV...\n"
     ]
    }
   ],
   "source": [
    "stores = stores_data()"
   ]
  },
  {
   "cell_type": "code",
   "execution_count": 13,
   "id": "74357170",
   "metadata": {},
   "outputs": [
    {
     "name": "stdout",
     "output_type": "stream",
     "text": [
      "Reading from local CSV...\n"
     ]
    }
   ],
   "source": [
    "sales = sales_data()"
   ]
  },
  {
   "cell_type": "code",
   "execution_count": 15,
   "id": "6209ab14",
   "metadata": {},
   "outputs": [
    {
     "data": {
      "text/html": [
       "<div>\n",
       "<style scoped>\n",
       "    .dataframe tbody tr th:only-of-type {\n",
       "        vertical-align: middle;\n",
       "    }\n",
       "\n",
       "    .dataframe tbody tr th {\n",
       "        vertical-align: top;\n",
       "    }\n",
       "\n",
       "    .dataframe thead th {\n",
       "        text-align: right;\n",
       "    }\n",
       "</style>\n",
       "<table border=\"1\" class=\"dataframe\">\n",
       "  <thead>\n",
       "    <tr style=\"text-align: right;\">\n",
       "      <th></th>\n",
       "      <th>item_id</th>\n",
       "      <th>sale_amount</th>\n",
       "      <th>sale_date</th>\n",
       "      <th>sale_id</th>\n",
       "      <th>store_id</th>\n",
       "    </tr>\n",
       "  </thead>\n",
       "  <tbody>\n",
       "    <tr>\n",
       "      <th>0</th>\n",
       "      <td>1</td>\n",
       "      <td>13.0</td>\n",
       "      <td>Tue, 01 Jan 2013 00:00:00 GMT</td>\n",
       "      <td>1</td>\n",
       "      <td>1</td>\n",
       "    </tr>\n",
       "    <tr>\n",
       "      <th>1</th>\n",
       "      <td>1</td>\n",
       "      <td>11.0</td>\n",
       "      <td>Wed, 02 Jan 2013 00:00:00 GMT</td>\n",
       "      <td>2</td>\n",
       "      <td>1</td>\n",
       "    </tr>\n",
       "    <tr>\n",
       "      <th>2</th>\n",
       "      <td>1</td>\n",
       "      <td>14.0</td>\n",
       "      <td>Thu, 03 Jan 2013 00:00:00 GMT</td>\n",
       "      <td>3</td>\n",
       "      <td>1</td>\n",
       "    </tr>\n",
       "    <tr>\n",
       "      <th>3</th>\n",
       "      <td>1</td>\n",
       "      <td>13.0</td>\n",
       "      <td>Fri, 04 Jan 2013 00:00:00 GMT</td>\n",
       "      <td>4</td>\n",
       "      <td>1</td>\n",
       "    </tr>\n",
       "    <tr>\n",
       "      <th>4</th>\n",
       "      <td>1</td>\n",
       "      <td>10.0</td>\n",
       "      <td>Sat, 05 Jan 2013 00:00:00 GMT</td>\n",
       "      <td>5</td>\n",
       "      <td>1</td>\n",
       "    </tr>\n",
       "  </tbody>\n",
       "</table>\n",
       "</div>"
      ],
      "text/plain": [
       "   item_id  sale_amount                      sale_date  sale_id  store_id\n",
       "0        1         13.0  Tue, 01 Jan 2013 00:00:00 GMT        1         1\n",
       "1        1         11.0  Wed, 02 Jan 2013 00:00:00 GMT        2         1\n",
       "2        1         14.0  Thu, 03 Jan 2013 00:00:00 GMT        3         1\n",
       "3        1         13.0  Fri, 04 Jan 2013 00:00:00 GMT        4         1\n",
       "4        1         10.0  Sat, 05 Jan 2013 00:00:00 GMT        5         1"
      ]
     },
     "execution_count": 15,
     "metadata": {},
     "output_type": "execute_result"
    }
   ],
   "source": [
    "sales = sales.rename(columns={'item': 'item_id', 'store': 'store_id'})\n",
    "sales.head()"
   ]
  },
  {
   "cell_type": "code",
   "execution_count": 16,
   "id": "a4306201",
   "metadata": {},
   "outputs": [
    {
     "data": {
      "text/html": [
       "<div>\n",
       "<style scoped>\n",
       "    .dataframe tbody tr th:only-of-type {\n",
       "        vertical-align: middle;\n",
       "    }\n",
       "\n",
       "    .dataframe tbody tr th {\n",
       "        vertical-align: top;\n",
       "    }\n",
       "\n",
       "    .dataframe thead th {\n",
       "        text-align: right;\n",
       "    }\n",
       "</style>\n",
       "<table border=\"1\" class=\"dataframe\">\n",
       "  <thead>\n",
       "    <tr style=\"text-align: right;\">\n",
       "      <th></th>\n",
       "      <th>item_brand</th>\n",
       "      <th>item_id</th>\n",
       "      <th>item_name</th>\n",
       "      <th>item_price</th>\n",
       "      <th>item_upc12</th>\n",
       "      <th>item_upc14</th>\n",
       "    </tr>\n",
       "  </thead>\n",
       "  <tbody>\n",
       "    <tr>\n",
       "      <th>0</th>\n",
       "      <td>Riceland</td>\n",
       "      <td>1</td>\n",
       "      <td>Riceland American Jazmine Rice</td>\n",
       "      <td>0.84</td>\n",
       "      <td>35200264013</td>\n",
       "      <td>35200264013</td>\n",
       "    </tr>\n",
       "    <tr>\n",
       "      <th>1</th>\n",
       "      <td>Caress</td>\n",
       "      <td>2</td>\n",
       "      <td>Caress Velvet Bliss Ultra Silkening Beauty Bar...</td>\n",
       "      <td>6.44</td>\n",
       "      <td>11111065925</td>\n",
       "      <td>11111065925</td>\n",
       "    </tr>\n",
       "  </tbody>\n",
       "</table>\n",
       "</div>"
      ],
      "text/plain": [
       "  item_brand  item_id                                          item_name  \\\n",
       "0   Riceland        1                     Riceland American Jazmine Rice   \n",
       "1     Caress        2  Caress Velvet Bliss Ultra Silkening Beauty Bar...   \n",
       "\n",
       "   item_price   item_upc12   item_upc14  \n",
       "0        0.84  35200264013  35200264013  \n",
       "1        6.44  11111065925  11111065925  "
      ]
     },
     "execution_count": 16,
     "metadata": {},
     "output_type": "execute_result"
    }
   ],
   "source": [
    "items.head(2)"
   ]
  },
  {
   "cell_type": "code",
   "execution_count": 17,
   "id": "d7dd0213",
   "metadata": {},
   "outputs": [
    {
     "data": {
      "text/html": [
       "<div>\n",
       "<style scoped>\n",
       "    .dataframe tbody tr th:only-of-type {\n",
       "        vertical-align: middle;\n",
       "    }\n",
       "\n",
       "    .dataframe tbody tr th {\n",
       "        vertical-align: top;\n",
       "    }\n",
       "\n",
       "    .dataframe thead th {\n",
       "        text-align: right;\n",
       "    }\n",
       "</style>\n",
       "<table border=\"1\" class=\"dataframe\">\n",
       "  <thead>\n",
       "    <tr style=\"text-align: right;\">\n",
       "      <th></th>\n",
       "      <th>store_address</th>\n",
       "      <th>store_city</th>\n",
       "      <th>store_id</th>\n",
       "      <th>store_state</th>\n",
       "      <th>store_zipcode</th>\n",
       "    </tr>\n",
       "  </thead>\n",
       "  <tbody>\n",
       "    <tr>\n",
       "      <th>0</th>\n",
       "      <td>12125 Alamo Ranch Pkwy</td>\n",
       "      <td>San Antonio</td>\n",
       "      <td>1</td>\n",
       "      <td>TX</td>\n",
       "      <td>78253</td>\n",
       "    </tr>\n",
       "    <tr>\n",
       "      <th>1</th>\n",
       "      <td>9255 FM 471 West</td>\n",
       "      <td>San Antonio</td>\n",
       "      <td>2</td>\n",
       "      <td>TX</td>\n",
       "      <td>78251</td>\n",
       "    </tr>\n",
       "  </tbody>\n",
       "</table>\n",
       "</div>"
      ],
      "text/plain": [
       "            store_address   store_city  store_id store_state  store_zipcode\n",
       "0  12125 Alamo Ranch Pkwy  San Antonio         1          TX          78253\n",
       "1        9255 FM 471 West  San Antonio         2          TX          78251"
      ]
     },
     "execution_count": 17,
     "metadata": {},
     "output_type": "execute_result"
    }
   ],
   "source": [
    "stores.head(2)"
   ]
  },
  {
   "cell_type": "code",
   "execution_count": 18,
   "id": "66a9c7b2",
   "metadata": {},
   "outputs": [
    {
     "data": {
      "text/plain": [
       "(0, 0, 0)"
      ]
     },
     "execution_count": 18,
     "metadata": {},
     "output_type": "execute_result"
    }
   ],
   "source": [
    "items.isnull().sum().sum(), stores.isnull().sum().sum(), sales.isnull().sum().sum()\n"
   ]
  },
  {
   "cell_type": "code",
   "execution_count": 19,
   "id": "b0ad140c",
   "metadata": {},
   "outputs": [
    {
     "data": {
      "text/html": [
       "<div>\n",
       "<style scoped>\n",
       "    .dataframe tbody tr th:only-of-type {\n",
       "        vertical-align: middle;\n",
       "    }\n",
       "\n",
       "    .dataframe tbody tr th {\n",
       "        vertical-align: top;\n",
       "    }\n",
       "\n",
       "    .dataframe thead th {\n",
       "        text-align: right;\n",
       "    }\n",
       "</style>\n",
       "<table border=\"1\" class=\"dataframe\">\n",
       "  <thead>\n",
       "    <tr style=\"text-align: right;\">\n",
       "      <th></th>\n",
       "      <th>item_brand</th>\n",
       "      <th>item_id</th>\n",
       "      <th>item_name</th>\n",
       "      <th>item_price</th>\n",
       "      <th>item_upc12</th>\n",
       "      <th>item_upc14</th>\n",
       "      <th>sale_amount</th>\n",
       "      <th>sale_date</th>\n",
       "      <th>sale_id</th>\n",
       "      <th>store_id</th>\n",
       "    </tr>\n",
       "  </thead>\n",
       "  <tbody>\n",
       "    <tr>\n",
       "      <th>0</th>\n",
       "      <td>Riceland</td>\n",
       "      <td>1</td>\n",
       "      <td>Riceland American Jazmine Rice</td>\n",
       "      <td>0.84</td>\n",
       "      <td>35200264013</td>\n",
       "      <td>35200264013</td>\n",
       "      <td>13.0</td>\n",
       "      <td>Tue, 01 Jan 2013 00:00:00 GMT</td>\n",
       "      <td>1</td>\n",
       "      <td>1</td>\n",
       "    </tr>\n",
       "    <tr>\n",
       "      <th>1</th>\n",
       "      <td>Riceland</td>\n",
       "      <td>1</td>\n",
       "      <td>Riceland American Jazmine Rice</td>\n",
       "      <td>0.84</td>\n",
       "      <td>35200264013</td>\n",
       "      <td>35200264013</td>\n",
       "      <td>11.0</td>\n",
       "      <td>Wed, 02 Jan 2013 00:00:00 GMT</td>\n",
       "      <td>2</td>\n",
       "      <td>1</td>\n",
       "    </tr>\n",
       "  </tbody>\n",
       "</table>\n",
       "</div>"
      ],
      "text/plain": [
       "  item_brand  item_id                       item_name  item_price  \\\n",
       "0   Riceland        1  Riceland American Jazmine Rice        0.84   \n",
       "1   Riceland        1  Riceland American Jazmine Rice        0.84   \n",
       "\n",
       "    item_upc12   item_upc14  sale_amount                      sale_date  \\\n",
       "0  35200264013  35200264013         13.0  Tue, 01 Jan 2013 00:00:00 GMT   \n",
       "1  35200264013  35200264013         11.0  Wed, 02 Jan 2013 00:00:00 GMT   \n",
       "\n",
       "   sale_id  store_id  \n",
       "0        1         1  \n",
       "1        2         1  "
      ]
     },
     "execution_count": 19,
     "metadata": {},
     "output_type": "execute_result"
    }
   ],
   "source": [
    "sales_items = items.merge(sales, on='item_id')\n",
    "sales_items.head(2)"
   ]
  },
  {
   "cell_type": "code",
   "execution_count": 20,
   "id": "6920f85d",
   "metadata": {},
   "outputs": [],
   "source": [
    "stores_sales_items = sales_items.merge(stores, on='store_id')\n"
   ]
  },
  {
   "cell_type": "code",
   "execution_count": 21,
   "id": "14ffd045",
   "metadata": {},
   "outputs": [
    {
     "data": {
      "text/html": [
       "<div>\n",
       "<style scoped>\n",
       "    .dataframe tbody tr th:only-of-type {\n",
       "        vertical-align: middle;\n",
       "    }\n",
       "\n",
       "    .dataframe tbody tr th {\n",
       "        vertical-align: top;\n",
       "    }\n",
       "\n",
       "    .dataframe thead th {\n",
       "        text-align: right;\n",
       "    }\n",
       "</style>\n",
       "<table border=\"1\" class=\"dataframe\">\n",
       "  <thead>\n",
       "    <tr style=\"text-align: right;\">\n",
       "      <th></th>\n",
       "      <th>item_brand</th>\n",
       "      <th>item_id</th>\n",
       "      <th>item_name</th>\n",
       "      <th>item_price</th>\n",
       "      <th>item_upc12</th>\n",
       "      <th>item_upc14</th>\n",
       "      <th>sale_amount</th>\n",
       "      <th>sale_date</th>\n",
       "      <th>sale_id</th>\n",
       "      <th>store_id</th>\n",
       "      <th>store_address</th>\n",
       "      <th>store_city</th>\n",
       "      <th>store_state</th>\n",
       "      <th>store_zipcode</th>\n",
       "    </tr>\n",
       "  </thead>\n",
       "  <tbody>\n",
       "    <tr>\n",
       "      <th>0</th>\n",
       "      <td>Riceland</td>\n",
       "      <td>1</td>\n",
       "      <td>Riceland American Jazmine Rice</td>\n",
       "      <td>0.84</td>\n",
       "      <td>35200264013</td>\n",
       "      <td>35200264013</td>\n",
       "      <td>13.0</td>\n",
       "      <td>Tue, 01 Jan 2013 00:00:00 GMT</td>\n",
       "      <td>1</td>\n",
       "      <td>1</td>\n",
       "      <td>12125 Alamo Ranch Pkwy</td>\n",
       "      <td>San Antonio</td>\n",
       "      <td>TX</td>\n",
       "      <td>78253</td>\n",
       "    </tr>\n",
       "    <tr>\n",
       "      <th>1</th>\n",
       "      <td>Riceland</td>\n",
       "      <td>1</td>\n",
       "      <td>Riceland American Jazmine Rice</td>\n",
       "      <td>0.84</td>\n",
       "      <td>35200264013</td>\n",
       "      <td>35200264013</td>\n",
       "      <td>11.0</td>\n",
       "      <td>Wed, 02 Jan 2013 00:00:00 GMT</td>\n",
       "      <td>2</td>\n",
       "      <td>1</td>\n",
       "      <td>12125 Alamo Ranch Pkwy</td>\n",
       "      <td>San Antonio</td>\n",
       "      <td>TX</td>\n",
       "      <td>78253</td>\n",
       "    </tr>\n",
       "  </tbody>\n",
       "</table>\n",
       "</div>"
      ],
      "text/plain": [
       "  item_brand  item_id                       item_name  item_price  \\\n",
       "0   Riceland        1  Riceland American Jazmine Rice        0.84   \n",
       "1   Riceland        1  Riceland American Jazmine Rice        0.84   \n",
       "\n",
       "    item_upc12   item_upc14  sale_amount                      sale_date  \\\n",
       "0  35200264013  35200264013         13.0  Tue, 01 Jan 2013 00:00:00 GMT   \n",
       "1  35200264013  35200264013         11.0  Wed, 02 Jan 2013 00:00:00 GMT   \n",
       "\n",
       "   sale_id  store_id           store_address   store_city store_state  \\\n",
       "0        1         1  12125 Alamo Ranch Pkwy  San Antonio          TX   \n",
       "1        2         1  12125 Alamo Ranch Pkwy  San Antonio          TX   \n",
       "\n",
       "   store_zipcode  \n",
       "0          78253  \n",
       "1          78253  "
      ]
     },
     "execution_count": 21,
     "metadata": {},
     "output_type": "execute_result"
    }
   ],
   "source": [
    "stores_sales_items.head(2)\n"
   ]
  },
  {
   "cell_type": "code",
   "execution_count": 24,
   "id": "eafe0291",
   "metadata": {},
   "outputs": [],
   "source": [
    "def combine_heb_data(sales, items, stores):\n",
    "    sales = sales.rename(columns={'item': 'item_id', 'store': 'store_id'})\n",
    "    sales_items = items.merge(sales, on='item_id')\n",
    "    stores_sales_items = sales_items.merge(stores, on='store_id')\n",
    "    return stores_sales_items"
   ]
  },
  {
   "cell_type": "code",
   "execution_count": 26,
   "id": "90c49dfd",
   "metadata": {},
   "outputs": [
    {
     "data": {
      "text/html": [
       "<div>\n",
       "<style scoped>\n",
       "    .dataframe tbody tr th:only-of-type {\n",
       "        vertical-align: middle;\n",
       "    }\n",
       "\n",
       "    .dataframe tbody tr th {\n",
       "        vertical-align: top;\n",
       "    }\n",
       "\n",
       "    .dataframe thead th {\n",
       "        text-align: right;\n",
       "    }\n",
       "</style>\n",
       "<table border=\"1\" class=\"dataframe\">\n",
       "  <thead>\n",
       "    <tr style=\"text-align: right;\">\n",
       "      <th></th>\n",
       "      <th>item_brand</th>\n",
       "      <th>item_id</th>\n",
       "      <th>item_name</th>\n",
       "      <th>item_price</th>\n",
       "      <th>item_upc12</th>\n",
       "      <th>item_upc14</th>\n",
       "      <th>sale_amount</th>\n",
       "      <th>sale_date</th>\n",
       "      <th>sale_id</th>\n",
       "      <th>store_id</th>\n",
       "      <th>store_address</th>\n",
       "      <th>store_city</th>\n",
       "      <th>store_state</th>\n",
       "      <th>store_zipcode</th>\n",
       "    </tr>\n",
       "  </thead>\n",
       "  <tbody>\n",
       "    <tr>\n",
       "      <th>0</th>\n",
       "      <td>Riceland</td>\n",
       "      <td>1</td>\n",
       "      <td>Riceland American Jazmine Rice</td>\n",
       "      <td>0.84</td>\n",
       "      <td>35200264013</td>\n",
       "      <td>35200264013</td>\n",
       "      <td>13.0</td>\n",
       "      <td>Tue, 01 Jan 2013 00:00:00 GMT</td>\n",
       "      <td>1</td>\n",
       "      <td>1</td>\n",
       "      <td>12125 Alamo Ranch Pkwy</td>\n",
       "      <td>San Antonio</td>\n",
       "      <td>TX</td>\n",
       "      <td>78253</td>\n",
       "    </tr>\n",
       "    <tr>\n",
       "      <th>1</th>\n",
       "      <td>Riceland</td>\n",
       "      <td>1</td>\n",
       "      <td>Riceland American Jazmine Rice</td>\n",
       "      <td>0.84</td>\n",
       "      <td>35200264013</td>\n",
       "      <td>35200264013</td>\n",
       "      <td>11.0</td>\n",
       "      <td>Wed, 02 Jan 2013 00:00:00 GMT</td>\n",
       "      <td>2</td>\n",
       "      <td>1</td>\n",
       "      <td>12125 Alamo Ranch Pkwy</td>\n",
       "      <td>San Antonio</td>\n",
       "      <td>TX</td>\n",
       "      <td>78253</td>\n",
       "    </tr>\n",
       "    <tr>\n",
       "      <th>2</th>\n",
       "      <td>Riceland</td>\n",
       "      <td>1</td>\n",
       "      <td>Riceland American Jazmine Rice</td>\n",
       "      <td>0.84</td>\n",
       "      <td>35200264013</td>\n",
       "      <td>35200264013</td>\n",
       "      <td>14.0</td>\n",
       "      <td>Thu, 03 Jan 2013 00:00:00 GMT</td>\n",
       "      <td>3</td>\n",
       "      <td>1</td>\n",
       "      <td>12125 Alamo Ranch Pkwy</td>\n",
       "      <td>San Antonio</td>\n",
       "      <td>TX</td>\n",
       "      <td>78253</td>\n",
       "    </tr>\n",
       "    <tr>\n",
       "      <th>3</th>\n",
       "      <td>Riceland</td>\n",
       "      <td>1</td>\n",
       "      <td>Riceland American Jazmine Rice</td>\n",
       "      <td>0.84</td>\n",
       "      <td>35200264013</td>\n",
       "      <td>35200264013</td>\n",
       "      <td>13.0</td>\n",
       "      <td>Fri, 04 Jan 2013 00:00:00 GMT</td>\n",
       "      <td>4</td>\n",
       "      <td>1</td>\n",
       "      <td>12125 Alamo Ranch Pkwy</td>\n",
       "      <td>San Antonio</td>\n",
       "      <td>TX</td>\n",
       "      <td>78253</td>\n",
       "    </tr>\n",
       "    <tr>\n",
       "      <th>4</th>\n",
       "      <td>Riceland</td>\n",
       "      <td>1</td>\n",
       "      <td>Riceland American Jazmine Rice</td>\n",
       "      <td>0.84</td>\n",
       "      <td>35200264013</td>\n",
       "      <td>35200264013</td>\n",
       "      <td>10.0</td>\n",
       "      <td>Sat, 05 Jan 2013 00:00:00 GMT</td>\n",
       "      <td>5</td>\n",
       "      <td>1</td>\n",
       "      <td>12125 Alamo Ranch Pkwy</td>\n",
       "      <td>San Antonio</td>\n",
       "      <td>TX</td>\n",
       "      <td>78253</td>\n",
       "    </tr>\n",
       "  </tbody>\n",
       "</table>\n",
       "</div>"
      ],
      "text/plain": [
       "  item_brand  item_id                       item_name  item_price  \\\n",
       "0   Riceland        1  Riceland American Jazmine Rice        0.84   \n",
       "1   Riceland        1  Riceland American Jazmine Rice        0.84   \n",
       "2   Riceland        1  Riceland American Jazmine Rice        0.84   \n",
       "3   Riceland        1  Riceland American Jazmine Rice        0.84   \n",
       "4   Riceland        1  Riceland American Jazmine Rice        0.84   \n",
       "\n",
       "    item_upc12   item_upc14  sale_amount                      sale_date  \\\n",
       "0  35200264013  35200264013         13.0  Tue, 01 Jan 2013 00:00:00 GMT   \n",
       "1  35200264013  35200264013         11.0  Wed, 02 Jan 2013 00:00:00 GMT   \n",
       "2  35200264013  35200264013         14.0  Thu, 03 Jan 2013 00:00:00 GMT   \n",
       "3  35200264013  35200264013         13.0  Fri, 04 Jan 2013 00:00:00 GMT   \n",
       "4  35200264013  35200264013         10.0  Sat, 05 Jan 2013 00:00:00 GMT   \n",
       "\n",
       "   sale_id  store_id           store_address   store_city store_state  \\\n",
       "0        1         1  12125 Alamo Ranch Pkwy  San Antonio          TX   \n",
       "1        2         1  12125 Alamo Ranch Pkwy  San Antonio          TX   \n",
       "2        3         1  12125 Alamo Ranch Pkwy  San Antonio          TX   \n",
       "3        4         1  12125 Alamo Ranch Pkwy  San Antonio          TX   \n",
       "4        5         1  12125 Alamo Ranch Pkwy  San Antonio          TX   \n",
       "\n",
       "   store_zipcode  \n",
       "0          78253  \n",
       "1          78253  \n",
       "2          78253  \n",
       "3          78253  \n",
       "4          78253  "
      ]
     },
     "execution_count": 26,
     "metadata": {},
     "output_type": "execute_result"
    }
   ],
   "source": [
    "df = combine_heb_data(sales, items, stores)\n",
    "df.head()\n"
   ]
  },
  {
   "cell_type": "markdown",
   "id": "265905fd",
   "metadata": {},
   "source": [
    "6.)Acquire the Open Power Systems Data for Germany, which has been rapidly expanding its renewable energy production in recent years. The data set includes country-wide totals of electricity consumption, wind power production, and solar power production for 2006-2017. You can get the data here: https://raw.githubusercontent.com/jenfly/opsd/master/opsd_germany_daily.csv\n"
   ]
  },
  {
   "cell_type": "code",
   "execution_count": 28,
   "id": "5c976339",
   "metadata": {},
   "outputs": [
    {
     "data": {
      "text/html": [
       "<div>\n",
       "<style scoped>\n",
       "    .dataframe tbody tr th:only-of-type {\n",
       "        vertical-align: middle;\n",
       "    }\n",
       "\n",
       "    .dataframe tbody tr th {\n",
       "        vertical-align: top;\n",
       "    }\n",
       "\n",
       "    .dataframe thead th {\n",
       "        text-align: right;\n",
       "    }\n",
       "</style>\n",
       "<table border=\"1\" class=\"dataframe\">\n",
       "  <thead>\n",
       "    <tr style=\"text-align: right;\">\n",
       "      <th></th>\n",
       "      <th>Date</th>\n",
       "      <th>Consumption</th>\n",
       "      <th>Wind</th>\n",
       "      <th>Solar</th>\n",
       "      <th>Wind+Solar</th>\n",
       "    </tr>\n",
       "  </thead>\n",
       "  <tbody>\n",
       "    <tr>\n",
       "      <th>0</th>\n",
       "      <td>2006-01-01</td>\n",
       "      <td>1069.184</td>\n",
       "      <td>NaN</td>\n",
       "      <td>NaN</td>\n",
       "      <td>NaN</td>\n",
       "    </tr>\n",
       "    <tr>\n",
       "      <th>1</th>\n",
       "      <td>2006-01-02</td>\n",
       "      <td>1380.521</td>\n",
       "      <td>NaN</td>\n",
       "      <td>NaN</td>\n",
       "      <td>NaN</td>\n",
       "    </tr>\n",
       "    <tr>\n",
       "      <th>2</th>\n",
       "      <td>2006-01-03</td>\n",
       "      <td>1442.533</td>\n",
       "      <td>NaN</td>\n",
       "      <td>NaN</td>\n",
       "      <td>NaN</td>\n",
       "    </tr>\n",
       "    <tr>\n",
       "      <th>3</th>\n",
       "      <td>2006-01-04</td>\n",
       "      <td>1457.217</td>\n",
       "      <td>NaN</td>\n",
       "      <td>NaN</td>\n",
       "      <td>NaN</td>\n",
       "    </tr>\n",
       "    <tr>\n",
       "      <th>4</th>\n",
       "      <td>2006-01-05</td>\n",
       "      <td>1477.131</td>\n",
       "      <td>NaN</td>\n",
       "      <td>NaN</td>\n",
       "      <td>NaN</td>\n",
       "    </tr>\n",
       "  </tbody>\n",
       "</table>\n",
       "</div>"
      ],
      "text/plain": [
       "         Date  Consumption  Wind  Solar  Wind+Solar\n",
       "0  2006-01-01     1069.184   NaN    NaN         NaN\n",
       "1  2006-01-02     1380.521   NaN    NaN         NaN\n",
       "2  2006-01-03     1442.533   NaN    NaN         NaN\n",
       "3  2006-01-04     1457.217   NaN    NaN         NaN\n",
       "4  2006-01-05     1477.131   NaN    NaN         NaN"
      ]
     },
     "execution_count": 28,
     "metadata": {},
     "output_type": "execute_result"
    }
   ],
   "source": [
    "# https://aphorisms.glitch.me returns a random quotation\n",
    "germany = pd.read_csv('https://raw.githubusercontent.com/jenfly/opsd/master/opsd_germany_daily.csv')\n",
    "germany.head()"
   ]
  },
  {
   "cell_type": "code",
   "execution_count": 30,
   "id": "1da55954",
   "metadata": {},
   "outputs": [
    {
     "name": "stdout",
     "output_type": "stream",
     "text": [
      "<class 'pandas.core.frame.DataFrame'>\n",
      "RangeIndex: 4383 entries, 0 to 4382\n",
      "Data columns (total 5 columns):\n",
      " #   Column       Non-Null Count  Dtype  \n",
      "---  ------       --------------  -----  \n",
      " 0   Date         4383 non-null   object \n",
      " 1   Consumption  4383 non-null   float64\n",
      " 2   Wind         2920 non-null   float64\n",
      " 3   Solar        2188 non-null   float64\n",
      " 4   Wind+Solar   2187 non-null   float64\n",
      "dtypes: float64(4), object(1)\n",
      "memory usage: 171.3+ KB\n"
     ]
    }
   ],
   "source": [
    "germany.info()\n"
   ]
  },
  {
   "cell_type": "code",
   "execution_count": 29,
   "id": "0d1522fe",
   "metadata": {},
   "outputs": [
    {
     "data": {
      "text/plain": [
       "Date              0\n",
       "Consumption       0\n",
       "Wind           1463\n",
       "Solar          2195\n",
       "Wind+Solar     2196\n",
       "dtype: int64"
      ]
     },
     "execution_count": 29,
     "metadata": {},
     "output_type": "execute_result"
    }
   ],
   "source": [
    "germany.isna().sum()\n"
   ]
  },
  {
   "cell_type": "code",
   "execution_count": 31,
   "id": "86d94578",
   "metadata": {},
   "outputs": [
    {
     "data": {
      "text/plain": [
       "(4383, 5)"
      ]
     },
     "execution_count": 31,
     "metadata": {},
     "output_type": "execute_result"
    }
   ],
   "source": [
    "germany.shape\n"
   ]
  },
  {
   "cell_type": "markdown",
   "id": "722cd456",
   "metadata": {},
   "source": [
    "7.)Make sure all the work that you have done above is reproducible. That is, you should put the code above into separate functions in the acquire.py file and be able to re-run the functions and get the same data.\n"
   ]
  },
  {
   "cell_type": "code",
   "execution_count": null,
   "id": "2d141abb",
   "metadata": {},
   "outputs": [],
   "source": []
  },
  {
   "cell_type": "code",
   "execution_count": null,
   "id": "4052f5d0",
   "metadata": {},
   "outputs": [],
   "source": []
  }
 ],
 "metadata": {
  "kernelspec": {
   "display_name": "Python 3 (ipykernel)",
   "language": "python",
   "name": "python3"
  },
  "language_info": {
   "codemirror_mode": {
    "name": "ipython",
    "version": 3
   },
   "file_extension": ".py",
   "mimetype": "text/x-python",
   "name": "python",
   "nbconvert_exporter": "python",
   "pygments_lexer": "ipython3",
   "version": "3.9.7"
  }
 },
 "nbformat": 4,
 "nbformat_minor": 5
}
