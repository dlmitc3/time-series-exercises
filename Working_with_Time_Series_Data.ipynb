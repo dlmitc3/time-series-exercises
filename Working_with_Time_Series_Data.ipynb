{
 "cells": [
  {
   "cell_type": "code",
   "execution_count": 1,
   "id": "c911bf14",
   "metadata": {},
   "outputs": [],
   "source": [
    "from vega_datasets import data\n",
    "import pandas as pd\n",
    "import numpy as np\n",
    "import matplotlib.pyplot as plt\n",
    "import seaborn as sns"
   ]
  },
  {
   "cell_type": "markdown",
   "id": "f7488211",
   "metadata": {},
   "source": [
    "# vega_datasets-sf.temp"
   ]
  },
  {
   "cell_type": "code",
   "execution_count": 2,
   "id": "dd40a963",
   "metadata": {},
   "outputs": [
    {
     "data": {
      "text/html": [
       "<div>\n",
       "<style scoped>\n",
       "    .dataframe tbody tr th:only-of-type {\n",
       "        vertical-align: middle;\n",
       "    }\n",
       "\n",
       "    .dataframe tbody tr th {\n",
       "        vertical-align: top;\n",
       "    }\n",
       "\n",
       "    .dataframe thead th {\n",
       "        text-align: right;\n",
       "    }\n",
       "</style>\n",
       "<table border=\"1\" class=\"dataframe\">\n",
       "  <thead>\n",
       "    <tr style=\"text-align: right;\">\n",
       "      <th></th>\n",
       "      <th>temp</th>\n",
       "      <th>date</th>\n",
       "    </tr>\n",
       "  </thead>\n",
       "  <tbody>\n",
       "    <tr>\n",
       "      <th>0</th>\n",
       "      <td>47.8</td>\n",
       "      <td>2010-01-01 00:00:00</td>\n",
       "    </tr>\n",
       "    <tr>\n",
       "      <th>1</th>\n",
       "      <td>47.4</td>\n",
       "      <td>2010-01-01 01:00:00</td>\n",
       "    </tr>\n",
       "    <tr>\n",
       "      <th>2</th>\n",
       "      <td>46.9</td>\n",
       "      <td>2010-01-01 02:00:00</td>\n",
       "    </tr>\n",
       "    <tr>\n",
       "      <th>3</th>\n",
       "      <td>46.5</td>\n",
       "      <td>2010-01-01 03:00:00</td>\n",
       "    </tr>\n",
       "    <tr>\n",
       "      <th>4</th>\n",
       "      <td>46.0</td>\n",
       "      <td>2010-01-01 04:00:00</td>\n",
       "    </tr>\n",
       "  </tbody>\n",
       "</table>\n",
       "</div>"
      ],
      "text/plain": [
       "   temp                date\n",
       "0  47.8 2010-01-01 00:00:00\n",
       "1  47.4 2010-01-01 01:00:00\n",
       "2  46.9 2010-01-01 02:00:00\n",
       "3  46.5 2010-01-01 03:00:00\n",
       "4  46.0 2010-01-01 04:00:00"
      ]
     },
     "execution_count": 2,
     "metadata": {},
     "output_type": "execute_result"
    }
   ],
   "source": [
    "df = data.sf_temps()\n",
    "df.head()"
   ]
  },
  {
   "cell_type": "code",
   "execution_count": 3,
   "id": "ebe910c4",
   "metadata": {},
   "outputs": [
    {
     "data": {
      "text/plain": [
       "temp           float64\n",
       "date    datetime64[ns]\n",
       "dtype: object"
      ]
     },
     "execution_count": 3,
     "metadata": {},
     "output_type": "execute_result"
    }
   ],
   "source": [
    "df.dtypes"
   ]
  },
  {
   "cell_type": "code",
   "execution_count": 4,
   "id": "a9d76ec6",
   "metadata": {},
   "outputs": [],
   "source": [
    "df.index = df.date\n",
    "df = df.drop(columns='date')"
   ]
  },
  {
   "cell_type": "code",
   "execution_count": 5,
   "id": "e388db37",
   "metadata": {},
   "outputs": [
    {
     "data": {
      "text/html": [
       "<div>\n",
       "<style scoped>\n",
       "    .dataframe tbody tr th:only-of-type {\n",
       "        vertical-align: middle;\n",
       "    }\n",
       "\n",
       "    .dataframe tbody tr th {\n",
       "        vertical-align: top;\n",
       "    }\n",
       "\n",
       "    .dataframe thead th {\n",
       "        text-align: right;\n",
       "    }\n",
       "</style>\n",
       "<table border=\"1\" class=\"dataframe\">\n",
       "  <thead>\n",
       "    <tr style=\"text-align: right;\">\n",
       "      <th></th>\n",
       "      <th>temp</th>\n",
       "    </tr>\n",
       "    <tr>\n",
       "      <th>date</th>\n",
       "      <th></th>\n",
       "    </tr>\n",
       "  </thead>\n",
       "  <tbody>\n",
       "    <tr>\n",
       "      <th>2010-01-01 00:00:00</th>\n",
       "      <td>47.8</td>\n",
       "    </tr>\n",
       "    <tr>\n",
       "      <th>2010-01-01 01:00:00</th>\n",
       "      <td>47.4</td>\n",
       "    </tr>\n",
       "    <tr>\n",
       "      <th>2010-01-01 02:00:00</th>\n",
       "      <td>46.9</td>\n",
       "    </tr>\n",
       "    <tr>\n",
       "      <th>2010-01-01 03:00:00</th>\n",
       "      <td>46.5</td>\n",
       "    </tr>\n",
       "    <tr>\n",
       "      <th>2010-01-01 04:00:00</th>\n",
       "      <td>46.0</td>\n",
       "    </tr>\n",
       "  </tbody>\n",
       "</table>\n",
       "</div>"
      ],
      "text/plain": [
       "                     temp\n",
       "date                     \n",
       "2010-01-01 00:00:00  47.8\n",
       "2010-01-01 01:00:00  47.4\n",
       "2010-01-01 02:00:00  46.9\n",
       "2010-01-01 03:00:00  46.5\n",
       "2010-01-01 04:00:00  46.0"
      ]
     },
     "execution_count": 5,
     "metadata": {},
     "output_type": "execute_result"
    }
   ],
   "source": [
    "df.head()"
   ]
  },
  {
   "cell_type": "markdown",
   "id": "7bd41676",
   "metadata": {},
   "source": [
    "**1).Resample by the day and take the average temperature. Visualize the average temperature over time.**"
   ]
  },
  {
   "cell_type": "code",
   "execution_count": 6,
   "id": "3415e16e",
   "metadata": {},
   "outputs": [
    {
     "data": {
      "image/png": "[encoded data removed]",
      "text/plain": [
       "<Figure size 432x288 with 1 Axes>"
      ]
     },
     "metadata": {
      "needs_background": "light"
     },
     "output_type": "display_data"
    }
   ],
   "source": [
    "# average temp by day over time\n",
    "df.resample('D').mean().plot(title='Average Daily Temperature')\n",
    "plt.show()"
   ]
  },
  {
   "cell_type": "markdown",
   "id": "1eac66cb",
   "metadata": {},
   "source": [
    "**2).Write the code necessary to visualize the minimum temperature over time.**"
   ]
  },
  {
   "cell_type": "code",
   "execution_count": 7,
   "id": "72db3268",
   "metadata": {},
   "outputs": [
    {
     "data": {
      "image/png": "[encoded data removed]",
      "text/plain": [
       "<Figure size 432x288 with 1 Axes>"
      ]
     },
     "metadata": {
      "needs_background": "light"
     },
     "output_type": "display_data"
    }
   ],
   "source": [
    "# min temp by day over time\n",
    "df.resample('D').min().plot(title='Minimun Daily Temperature')\n",
    "plt.show()"
   ]
  },
  {
   "cell_type": "markdown",
   "id": "b345d16d",
   "metadata": {},
   "source": [
    "**3).Write the code necessary to visualize the maximum temperature over time.**"
   ]
  },
  {
   "cell_type": "code",
   "execution_count": 8,
   "id": "bd319a8b",
   "metadata": {},
   "outputs": [
    {
     "data": {
      "image/png": "[encoded data removed]",
      "text/plain": [
       "<Figure size 432x288 with 1 Axes>"
      ]
     },
     "metadata": {
      "needs_background": "light"
     },
     "output_type": "display_data"
    }
   ],
   "source": [
    "# max temp over time by day\n",
    "df.resample('D').max().plot(title='Maximum Daily Temperature')\n",
    "plt.show()"
   ]
  },
  {
   "cell_type": "markdown",
   "id": "36457fd9",
   "metadata": {},
   "source": [
    "**4).Which month is the coldest, on average?**\n",
    "### Answer: January"
   ]
  },
  {
   "cell_type": "code",
   "execution_count": 9,
   "id": "4345863a",
   "metadata": {},
   "outputs": [
    {
     "data": {
      "text/html": [
       "<div>\n",
       "<style scoped>\n",
       "    .dataframe tbody tr th:only-of-type {\n",
       "        vertical-align: middle;\n",
       "    }\n",
       "\n",
       "    .dataframe tbody tr th {\n",
       "        vertical-align: top;\n",
       "    }\n",
       "\n",
       "    .dataframe thead th {\n",
       "        text-align: right;\n",
       "    }\n",
       "</style>\n",
       "<table border=\"1\" class=\"dataframe\">\n",
       "  <thead>\n",
       "    <tr style=\"text-align: right;\">\n",
       "      <th></th>\n",
       "      <th>temp</th>\n",
       "      <th>month</th>\n",
       "    </tr>\n",
       "    <tr>\n",
       "      <th>date</th>\n",
       "      <th></th>\n",
       "      <th></th>\n",
       "    </tr>\n",
       "  </thead>\n",
       "  <tbody>\n",
       "    <tr>\n",
       "      <th>2010-01-01 00:00:00</th>\n",
       "      <td>47.8</td>\n",
       "      <td>01-Jan</td>\n",
       "    </tr>\n",
       "    <tr>\n",
       "      <th>2010-01-01 01:00:00</th>\n",
       "      <td>47.4</td>\n",
       "      <td>01-Jan</td>\n",
       "    </tr>\n",
       "    <tr>\n",
       "      <th>2010-01-01 02:00:00</th>\n",
       "      <td>46.9</td>\n",
       "      <td>01-Jan</td>\n",
       "    </tr>\n",
       "    <tr>\n",
       "      <th>2010-01-01 03:00:00</th>\n",
       "      <td>46.5</td>\n",
       "      <td>01-Jan</td>\n",
       "    </tr>\n",
       "    <tr>\n",
       "      <th>2010-01-01 04:00:00</th>\n",
       "      <td>46.0</td>\n",
       "      <td>01-Jan</td>\n",
       "    </tr>\n",
       "  </tbody>\n",
       "</table>\n",
       "</div>"
      ],
      "text/plain": [
       "                     temp   month\n",
       "date                             \n",
       "2010-01-01 00:00:00  47.8  01-Jan\n",
       "2010-01-01 01:00:00  47.4  01-Jan\n",
       "2010-01-01 02:00:00  46.9  01-Jan\n",
       "2010-01-01 03:00:00  46.5  01-Jan\n",
       "2010-01-01 04:00:00  46.0  01-Jan"
      ]
     },
     "execution_count": 9,
     "metadata": {},
     "output_type": "execute_result"
    }
   ],
   "source": [
    "df['month'] = df.index.strftime('%m-%b')\n",
    "df.head()"
   ]
  },
  {
   "cell_type": "markdown",
   "id": "68eb4e87",
   "metadata": {},
   "source": [
    "**5).Which month has the highest average temperature?**\n",
    "### Answer: September"
   ]
  },
  {
   "cell_type": "code",
   "execution_count": 10,
   "id": "e039aeef",
   "metadata": {},
   "outputs": [
    {
     "data": {
      "text/html": [
       "<div>\n",
       "<style scoped>\n",
       "    .dataframe tbody tr th:only-of-type {\n",
       "        vertical-align: middle;\n",
       "    }\n",
       "\n",
       "    .dataframe tbody tr th {\n",
       "        vertical-align: top;\n",
       "    }\n",
       "\n",
       "    .dataframe thead th {\n",
       "        text-align: right;\n",
       "    }\n",
       "</style>\n",
       "<table border=\"1\" class=\"dataframe\">\n",
       "  <thead>\n",
       "    <tr style=\"text-align: right;\">\n",
       "      <th></th>\n",
       "      <th>temp</th>\n",
       "      <th>month</th>\n",
       "    </tr>\n",
       "    <tr>\n",
       "      <th>date</th>\n",
       "      <th></th>\n",
       "      <th></th>\n",
       "    </tr>\n",
       "  </thead>\n",
       "  <tbody>\n",
       "    <tr>\n",
       "      <th>2010-01-01 00:00:00</th>\n",
       "      <td>47.8</td>\n",
       "      <td>01-Jan</td>\n",
       "    </tr>\n",
       "    <tr>\n",
       "      <th>2010-01-01 01:00:00</th>\n",
       "      <td>47.4</td>\n",
       "      <td>01-Jan</td>\n",
       "    </tr>\n",
       "    <tr>\n",
       "      <th>2010-01-01 02:00:00</th>\n",
       "      <td>46.9</td>\n",
       "      <td>01-Jan</td>\n",
       "    </tr>\n",
       "    <tr>\n",
       "      <th>2010-01-01 03:00:00</th>\n",
       "      <td>46.5</td>\n",
       "      <td>01-Jan</td>\n",
       "    </tr>\n",
       "    <tr>\n",
       "      <th>2010-01-01 04:00:00</th>\n",
       "      <td>46.0</td>\n",
       "      <td>01-Jan</td>\n",
       "    </tr>\n",
       "  </tbody>\n",
       "</table>\n",
       "</div>"
      ],
      "text/plain": [
       "                     temp   month\n",
       "date                             \n",
       "2010-01-01 00:00:00  47.8  01-Jan\n",
       "2010-01-01 01:00:00  47.4  01-Jan\n",
       "2010-01-01 02:00:00  46.9  01-Jan\n",
       "2010-01-01 03:00:00  46.5  01-Jan\n",
       "2010-01-01 04:00:00  46.0  01-Jan"
      ]
     },
     "execution_count": 10,
     "metadata": {},
     "output_type": "execute_result"
    }
   ],
   "source": [
    "df['month'] = df.index.strftime('%m-%b')\n",
    "df.head()"
   ]
  },
  {
   "cell_type": "markdown",
   "id": "45ccd923",
   "metadata": {},
   "source": [
    "**6).Resample by the day and calculate the min and max temp for the day (Hint: .agg(['min', 'max'])). Use this resampled dataframe to calculate the change in temperature for the day. Which month has the highest daily temperature variability?**"
   ]
  },
  {
   "cell_type": "code",
   "execution_count": 11,
   "id": "5c46545a",
   "metadata": {},
   "outputs": [
    {
     "data": {
      "text/html": [
       "<div>\n",
       "<style scoped>\n",
       "    .dataframe tbody tr th:only-of-type {\n",
       "        vertical-align: middle;\n",
       "    }\n",
       "\n",
       "    .dataframe tbody tr th {\n",
       "        vertical-align: top;\n",
       "    }\n",
       "\n",
       "    .dataframe thead tr th {\n",
       "        text-align: left;\n",
       "    }\n",
       "\n",
       "    .dataframe thead tr:last-of-type th {\n",
       "        text-align: right;\n",
       "    }\n",
       "</style>\n",
       "<table border=\"1\" class=\"dataframe\">\n",
       "  <thead>\n",
       "    <tr>\n",
       "      <th></th>\n",
       "      <th colspan=\"2\" halign=\"left\">temp</th>\n",
       "      <th colspan=\"2\" halign=\"left\">month</th>\n",
       "    </tr>\n",
       "    <tr>\n",
       "      <th></th>\n",
       "      <th>min</th>\n",
       "      <th>max</th>\n",
       "      <th>min</th>\n",
       "      <th>max</th>\n",
       "    </tr>\n",
       "    <tr>\n",
       "      <th>date</th>\n",
       "      <th></th>\n",
       "      <th></th>\n",
       "      <th></th>\n",
       "      <th></th>\n",
       "    </tr>\n",
       "  </thead>\n",
       "  <tbody>\n",
       "    <tr>\n",
       "      <th>2010-01-01</th>\n",
       "      <td>45.8</td>\n",
       "      <td>53.3</td>\n",
       "      <td>01-Jan</td>\n",
       "      <td>01-Jan</td>\n",
       "    </tr>\n",
       "    <tr>\n",
       "      <th>2010-01-02</th>\n",
       "      <td>46.0</td>\n",
       "      <td>53.4</td>\n",
       "      <td>01-Jan</td>\n",
       "      <td>01-Jan</td>\n",
       "    </tr>\n",
       "    <tr>\n",
       "      <th>2010-01-03</th>\n",
       "      <td>46.1</td>\n",
       "      <td>53.5</td>\n",
       "      <td>01-Jan</td>\n",
       "      <td>01-Jan</td>\n",
       "    </tr>\n",
       "    <tr>\n",
       "      <th>2010-01-04</th>\n",
       "      <td>46.1</td>\n",
       "      <td>53.6</td>\n",
       "      <td>01-Jan</td>\n",
       "      <td>01-Jan</td>\n",
       "    </tr>\n",
       "    <tr>\n",
       "      <th>2010-01-05</th>\n",
       "      <td>46.1</td>\n",
       "      <td>53.8</td>\n",
       "      <td>01-Jan</td>\n",
       "      <td>01-Jan</td>\n",
       "    </tr>\n",
       "  </tbody>\n",
       "</table>\n",
       "</div>"
      ],
      "text/plain": [
       "            temp         month        \n",
       "             min   max     min     max\n",
       "date                                  \n",
       "2010-01-01  45.8  53.3  01-Jan  01-Jan\n",
       "2010-01-02  46.0  53.4  01-Jan  01-Jan\n",
       "2010-01-03  46.1  53.5  01-Jan  01-Jan\n",
       "2010-01-04  46.1  53.6  01-Jan  01-Jan\n",
       "2010-01-05  46.1  53.8  01-Jan  01-Jan"
      ]
     },
     "execution_count": 11,
     "metadata": {},
     "output_type": "execute_result"
    }
   ],
   "source": [
    "# Resample by the day and calculate the min and max temp for the day (Hint: .agg(['min', 'max']))\n",
    "by_day = df.resample('D').agg(['min', 'max'])\n",
    "by_day.head()"
   ]
  },
  {
   "cell_type": "code",
   "execution_count": 12,
   "id": "9e710154",
   "metadata": {},
   "outputs": [
    {
     "data": {
      "text/html": [
       "<div>\n",
       "<style scoped>\n",
       "    .dataframe tbody tr th:only-of-type {\n",
       "        vertical-align: middle;\n",
       "    }\n",
       "\n",
       "    .dataframe tbody tr th {\n",
       "        vertical-align: top;\n",
       "    }\n",
       "\n",
       "    .dataframe thead tr th {\n",
       "        text-align: left;\n",
       "    }\n",
       "\n",
       "    .dataframe thead tr:last-of-type th {\n",
       "        text-align: right;\n",
       "    }\n",
       "</style>\n",
       "<table border=\"1\" class=\"dataframe\">\n",
       "  <thead>\n",
       "    <tr>\n",
       "      <th></th>\n",
       "      <th colspan=\"2\" halign=\"left\">temp</th>\n",
       "      <th colspan=\"2\" halign=\"left\">month</th>\n",
       "      <th>change</th>\n",
       "    </tr>\n",
       "    <tr>\n",
       "      <th></th>\n",
       "      <th>min</th>\n",
       "      <th>max</th>\n",
       "      <th>min</th>\n",
       "      <th>max</th>\n",
       "      <th></th>\n",
       "    </tr>\n",
       "    <tr>\n",
       "      <th>date</th>\n",
       "      <th></th>\n",
       "      <th></th>\n",
       "      <th></th>\n",
       "      <th></th>\n",
       "      <th></th>\n",
       "    </tr>\n",
       "  </thead>\n",
       "  <tbody>\n",
       "    <tr>\n",
       "      <th>2010-01-01</th>\n",
       "      <td>45.8</td>\n",
       "      <td>53.3</td>\n",
       "      <td>01-Jan</td>\n",
       "      <td>01-Jan</td>\n",
       "      <td>7.5</td>\n",
       "    </tr>\n",
       "    <tr>\n",
       "      <th>2010-01-02</th>\n",
       "      <td>46.0</td>\n",
       "      <td>53.4</td>\n",
       "      <td>01-Jan</td>\n",
       "      <td>01-Jan</td>\n",
       "      <td>7.4</td>\n",
       "    </tr>\n",
       "    <tr>\n",
       "      <th>2010-01-03</th>\n",
       "      <td>46.1</td>\n",
       "      <td>53.5</td>\n",
       "      <td>01-Jan</td>\n",
       "      <td>01-Jan</td>\n",
       "      <td>7.4</td>\n",
       "    </tr>\n",
       "    <tr>\n",
       "      <th>2010-01-04</th>\n",
       "      <td>46.1</td>\n",
       "      <td>53.6</td>\n",
       "      <td>01-Jan</td>\n",
       "      <td>01-Jan</td>\n",
       "      <td>7.5</td>\n",
       "    </tr>\n",
       "    <tr>\n",
       "      <th>2010-01-05</th>\n",
       "      <td>46.1</td>\n",
       "      <td>53.8</td>\n",
       "      <td>01-Jan</td>\n",
       "      <td>01-Jan</td>\n",
       "      <td>7.7</td>\n",
       "    </tr>\n",
       "  </tbody>\n",
       "</table>\n",
       "</div>"
      ],
      "text/plain": [
       "            temp         month         change\n",
       "             min   max     min     max       \n",
       "date                                         \n",
       "2010-01-01  45.8  53.3  01-Jan  01-Jan    7.5\n",
       "2010-01-02  46.0  53.4  01-Jan  01-Jan    7.4\n",
       "2010-01-03  46.1  53.5  01-Jan  01-Jan    7.4\n",
       "2010-01-04  46.1  53.6  01-Jan  01-Jan    7.5\n",
       "2010-01-05  46.1  53.8  01-Jan  01-Jan    7.7"
      ]
     },
     "execution_count": 12,
     "metadata": {},
     "output_type": "execute_result"
    }
   ],
   "source": [
    "# Use this resampled dataframe to calculate the change in temperature for the day.\n",
    "by_day['change'] = by_day.temp['max'] - by_day.temp['min']\n",
    "by_day.head()"
   ]
  },
  {
   "cell_type": "code",
   "execution_count": 13,
   "id": "632b0e99",
   "metadata": {},
   "outputs": [
    {
     "data": {
      "text/plain": [
       "9"
      ]
     },
     "execution_count": 13,
     "metadata": {},
     "output_type": "execute_result"
    }
   ],
   "source": [
    "# Which month has the highest daily temperature variability?\n",
    "by_day.change.resample('M').mean().idxmax().month\n"
   ]
  },
  {
   "cell_type": "markdown",
   "id": "9511187c",
   "metadata": {},
   "source": [
    "\n",
    "**7).Bonus: Visualize the daily min, average, and max temperature over time on a single line plot, i.e. the min, average, and maximum temperature should be 3 seperate lines.**"
   ]
  },
  {
   "cell_type": "code",
   "execution_count": 14,
   "id": "cd2531bc",
   "metadata": {},
   "outputs": [],
   "source": [
    "by_day = df.resample('D').agg(['min', 'max', 'mean'])\n"
   ]
  },
  {
   "cell_type": "code",
   "execution_count": 15,
   "id": "faf69e4d",
   "metadata": {},
   "outputs": [
    {
     "data": {
      "image/png": "[encoded data removed]",
      "text/plain": [
       "<Figure size 432x288 with 1 Axes>"
      ]
     },
     "metadata": {
      "needs_background": "light"
     },
     "output_type": "display_data"
    }
   ],
   "source": [
    "by_day.plot()\n",
    "plt.show()"
   ]
  },
  {
   "cell_type": "markdown",
   "id": "ae9acbac",
   "metadata": {},
   "source": [
    "## **EXTRA**"
   ]
  },
  {
   "cell_type": "code",
   "execution_count": 16,
   "id": "d104a698",
   "metadata": {},
   "outputs": [
    {
     "data": {
      "text/html": [
       "<div>\n",
       "<style scoped>\n",
       "    .dataframe tbody tr th:only-of-type {\n",
       "        vertical-align: middle;\n",
       "    }\n",
       "\n",
       "    .dataframe tbody tr th {\n",
       "        vertical-align: top;\n",
       "    }\n",
       "\n",
       "    .dataframe thead th {\n",
       "        text-align: right;\n",
       "    }\n",
       "</style>\n",
       "<table border=\"1\" class=\"dataframe\">\n",
       "  <thead>\n",
       "    <tr style=\"text-align: right;\">\n",
       "      <th></th>\n",
       "      <th>temp</th>\n",
       "      <th>month</th>\n",
       "      <th>shift(-1)</th>\n",
       "      <th>shift(1)</th>\n",
       "      <th>shift(3)</th>\n",
       "      <th>diff(1)</th>\n",
       "      <th>diff(3)</th>\n",
       "    </tr>\n",
       "    <tr>\n",
       "      <th>date</th>\n",
       "      <th></th>\n",
       "      <th></th>\n",
       "      <th></th>\n",
       "      <th></th>\n",
       "      <th></th>\n",
       "      <th></th>\n",
       "      <th></th>\n",
       "    </tr>\n",
       "  </thead>\n",
       "  <tbody>\n",
       "    <tr>\n",
       "      <th>2010-01-01 00:00:00</th>\n",
       "      <td>47.8</td>\n",
       "      <td>01-Jan</td>\n",
       "      <td>47.4</td>\n",
       "      <td>NaN</td>\n",
       "      <td>NaN</td>\n",
       "      <td>NaN</td>\n",
       "      <td>NaN</td>\n",
       "    </tr>\n",
       "    <tr>\n",
       "      <th>2010-01-01 01:00:00</th>\n",
       "      <td>47.4</td>\n",
       "      <td>01-Jan</td>\n",
       "      <td>46.9</td>\n",
       "      <td>47.8</td>\n",
       "      <td>NaN</td>\n",
       "      <td>-0.4</td>\n",
       "      <td>NaN</td>\n",
       "    </tr>\n",
       "    <tr>\n",
       "      <th>2010-01-01 02:00:00</th>\n",
       "      <td>46.9</td>\n",
       "      <td>01-Jan</td>\n",
       "      <td>46.5</td>\n",
       "      <td>47.4</td>\n",
       "      <td>NaN</td>\n",
       "      <td>-0.5</td>\n",
       "      <td>NaN</td>\n",
       "    </tr>\n",
       "    <tr>\n",
       "      <th>2010-01-01 03:00:00</th>\n",
       "      <td>46.5</td>\n",
       "      <td>01-Jan</td>\n",
       "      <td>46.0</td>\n",
       "      <td>46.9</td>\n",
       "      <td>47.8</td>\n",
       "      <td>-0.4</td>\n",
       "      <td>-1.3</td>\n",
       "    </tr>\n",
       "    <tr>\n",
       "      <th>2010-01-01 04:00:00</th>\n",
       "      <td>46.0</td>\n",
       "      <td>01-Jan</td>\n",
       "      <td>45.8</td>\n",
       "      <td>46.5</td>\n",
       "      <td>47.4</td>\n",
       "      <td>-0.5</td>\n",
       "      <td>-1.4</td>\n",
       "    </tr>\n",
       "    <tr>\n",
       "      <th>2010-01-01 05:00:00</th>\n",
       "      <td>45.8</td>\n",
       "      <td>01-Jan</td>\n",
       "      <td>45.9</td>\n",
       "      <td>46.0</td>\n",
       "      <td>46.9</td>\n",
       "      <td>-0.2</td>\n",
       "      <td>-1.1</td>\n",
       "    </tr>\n",
       "    <tr>\n",
       "      <th>2010-01-01 06:00:00</th>\n",
       "      <td>45.9</td>\n",
       "      <td>01-Jan</td>\n",
       "      <td>45.9</td>\n",
       "      <td>45.8</td>\n",
       "      <td>46.5</td>\n",
       "      <td>0.1</td>\n",
       "      <td>-0.6</td>\n",
       "    </tr>\n",
       "    <tr>\n",
       "      <th>2010-01-01 07:00:00</th>\n",
       "      <td>45.9</td>\n",
       "      <td>01-Jan</td>\n",
       "      <td>46.4</td>\n",
       "      <td>45.9</td>\n",
       "      <td>46.0</td>\n",
       "      <td>0.0</td>\n",
       "      <td>-0.1</td>\n",
       "    </tr>\n",
       "    <tr>\n",
       "      <th>2010-01-01 08:00:00</th>\n",
       "      <td>46.4</td>\n",
       "      <td>01-Jan</td>\n",
       "      <td>48.0</td>\n",
       "      <td>45.9</td>\n",
       "      <td>45.8</td>\n",
       "      <td>0.5</td>\n",
       "      <td>0.6</td>\n",
       "    </tr>\n",
       "    <tr>\n",
       "      <th>2010-01-01 09:00:00</th>\n",
       "      <td>48.0</td>\n",
       "      <td>01-Jan</td>\n",
       "      <td>49.5</td>\n",
       "      <td>46.4</td>\n",
       "      <td>45.9</td>\n",
       "      <td>1.6</td>\n",
       "      <td>2.1</td>\n",
       "    </tr>\n",
       "    <tr>\n",
       "      <th>2010-01-01 10:00:00</th>\n",
       "      <td>49.5</td>\n",
       "      <td>01-Jan</td>\n",
       "      <td>50.6</td>\n",
       "      <td>48.0</td>\n",
       "      <td>45.9</td>\n",
       "      <td>1.5</td>\n",
       "      <td>3.6</td>\n",
       "    </tr>\n",
       "    <tr>\n",
       "      <th>2010-01-01 11:00:00</th>\n",
       "      <td>50.6</td>\n",
       "      <td>01-Jan</td>\n",
       "      <td>51.6</td>\n",
       "      <td>49.5</td>\n",
       "      <td>46.4</td>\n",
       "      <td>1.1</td>\n",
       "      <td>4.2</td>\n",
       "    </tr>\n",
       "    <tr>\n",
       "      <th>2010-01-01 12:00:00</th>\n",
       "      <td>51.6</td>\n",
       "      <td>01-Jan</td>\n",
       "      <td>52.4</td>\n",
       "      <td>50.6</td>\n",
       "      <td>48.0</td>\n",
       "      <td>1.0</td>\n",
       "      <td>3.6</td>\n",
       "    </tr>\n",
       "    <tr>\n",
       "      <th>2010-01-01 13:00:00</th>\n",
       "      <td>52.4</td>\n",
       "      <td>01-Jan</td>\n",
       "      <td>53.0</td>\n",
       "      <td>51.6</td>\n",
       "      <td>49.5</td>\n",
       "      <td>0.8</td>\n",
       "      <td>2.9</td>\n",
       "    </tr>\n",
       "    <tr>\n",
       "      <th>2010-01-01 14:00:00</th>\n",
       "      <td>53.0</td>\n",
       "      <td>01-Jan</td>\n",
       "      <td>53.3</td>\n",
       "      <td>52.4</td>\n",
       "      <td>50.6</td>\n",
       "      <td>0.6</td>\n",
       "      <td>2.4</td>\n",
       "    </tr>\n",
       "    <tr>\n",
       "      <th>2010-01-01 15:00:00</th>\n",
       "      <td>53.3</td>\n",
       "      <td>01-Jan</td>\n",
       "      <td>52.9</td>\n",
       "      <td>53.0</td>\n",
       "      <td>51.6</td>\n",
       "      <td>0.3</td>\n",
       "      <td>1.7</td>\n",
       "    </tr>\n",
       "    <tr>\n",
       "      <th>2010-01-01 16:00:00</th>\n",
       "      <td>52.9</td>\n",
       "      <td>01-Jan</td>\n",
       "      <td>51.9</td>\n",
       "      <td>53.3</td>\n",
       "      <td>52.4</td>\n",
       "      <td>-0.4</td>\n",
       "      <td>0.5</td>\n",
       "    </tr>\n",
       "    <tr>\n",
       "      <th>2010-01-01 17:00:00</th>\n",
       "      <td>51.9</td>\n",
       "      <td>01-Jan</td>\n",
       "      <td>51.1</td>\n",
       "      <td>52.9</td>\n",
       "      <td>53.0</td>\n",
       "      <td>-1.0</td>\n",
       "      <td>-1.1</td>\n",
       "    </tr>\n",
       "    <tr>\n",
       "      <th>2010-01-01 18:00:00</th>\n",
       "      <td>51.1</td>\n",
       "      <td>01-Jan</td>\n",
       "      <td>50.5</td>\n",
       "      <td>51.9</td>\n",
       "      <td>53.3</td>\n",
       "      <td>-0.8</td>\n",
       "      <td>-2.2</td>\n",
       "    </tr>\n",
       "    <tr>\n",
       "      <th>2010-01-01 19:00:00</th>\n",
       "      <td>50.5</td>\n",
       "      <td>01-Jan</td>\n",
       "      <td>49.9</td>\n",
       "      <td>51.1</td>\n",
       "      <td>52.9</td>\n",
       "      <td>-0.6</td>\n",
       "      <td>-2.4</td>\n",
       "    </tr>\n",
       "    <tr>\n",
       "      <th>2010-01-01 20:00:00</th>\n",
       "      <td>49.9</td>\n",
       "      <td>01-Jan</td>\n",
       "      <td>49.5</td>\n",
       "      <td>50.5</td>\n",
       "      <td>51.9</td>\n",
       "      <td>-0.6</td>\n",
       "      <td>-2.0</td>\n",
       "    </tr>\n",
       "    <tr>\n",
       "      <th>2010-01-01 21:00:00</th>\n",
       "      <td>49.5</td>\n",
       "      <td>01-Jan</td>\n",
       "      <td>48.9</td>\n",
       "      <td>49.9</td>\n",
       "      <td>51.1</td>\n",
       "      <td>-0.4</td>\n",
       "      <td>-1.6</td>\n",
       "    </tr>\n",
       "    <tr>\n",
       "      <th>2010-01-01 22:00:00</th>\n",
       "      <td>48.9</td>\n",
       "      <td>01-Jan</td>\n",
       "      <td>48.4</td>\n",
       "      <td>49.5</td>\n",
       "      <td>50.5</td>\n",
       "      <td>-0.6</td>\n",
       "      <td>-1.6</td>\n",
       "    </tr>\n",
       "    <tr>\n",
       "      <th>2010-01-01 23:00:00</th>\n",
       "      <td>48.4</td>\n",
       "      <td>01-Jan</td>\n",
       "      <td>47.9</td>\n",
       "      <td>48.9</td>\n",
       "      <td>49.9</td>\n",
       "      <td>-0.5</td>\n",
       "      <td>-1.5</td>\n",
       "    </tr>\n",
       "    <tr>\n",
       "      <th>2010-01-02 00:00:00</th>\n",
       "      <td>47.9</td>\n",
       "      <td>01-Jan</td>\n",
       "      <td>47.6</td>\n",
       "      <td>48.4</td>\n",
       "      <td>49.5</td>\n",
       "      <td>-0.5</td>\n",
       "      <td>-1.6</td>\n",
       "    </tr>\n",
       "  </tbody>\n",
       "</table>\n",
       "</div>"
      ],
      "text/plain": [
       "                     temp   month  shift(-1)  shift(1)  shift(3)  diff(1)  \\\n",
       "date                                                                        \n",
       "2010-01-01 00:00:00  47.8  01-Jan       47.4       NaN       NaN      NaN   \n",
       "2010-01-01 01:00:00  47.4  01-Jan       46.9      47.8       NaN     -0.4   \n",
       "2010-01-01 02:00:00  46.9  01-Jan       46.5      47.4       NaN     -0.5   \n",
       "2010-01-01 03:00:00  46.5  01-Jan       46.0      46.9      47.8     -0.4   \n",
       "2010-01-01 04:00:00  46.0  01-Jan       45.8      46.5      47.4     -0.5   \n",
       "2010-01-01 05:00:00  45.8  01-Jan       45.9      46.0      46.9     -0.2   \n",
       "2010-01-01 06:00:00  45.9  01-Jan       45.9      45.8      46.5      0.1   \n",
       "2010-01-01 07:00:00  45.9  01-Jan       46.4      45.9      46.0      0.0   \n",
       "2010-01-01 08:00:00  46.4  01-Jan       48.0      45.9      45.8      0.5   \n",
       "2010-01-01 09:00:00  48.0  01-Jan       49.5      46.4      45.9      1.6   \n",
       "2010-01-01 10:00:00  49.5  01-Jan       50.6      48.0      45.9      1.5   \n",
       "2010-01-01 11:00:00  50.6  01-Jan       51.6      49.5      46.4      1.1   \n",
       "2010-01-01 12:00:00  51.6  01-Jan       52.4      50.6      48.0      1.0   \n",
       "2010-01-01 13:00:00  52.4  01-Jan       53.0      51.6      49.5      0.8   \n",
       "2010-01-01 14:00:00  53.0  01-Jan       53.3      52.4      50.6      0.6   \n",
       "2010-01-01 15:00:00  53.3  01-Jan       52.9      53.0      51.6      0.3   \n",
       "2010-01-01 16:00:00  52.9  01-Jan       51.9      53.3      52.4     -0.4   \n",
       "2010-01-01 17:00:00  51.9  01-Jan       51.1      52.9      53.0     -1.0   \n",
       "2010-01-01 18:00:00  51.1  01-Jan       50.5      51.9      53.3     -0.8   \n",
       "2010-01-01 19:00:00  50.5  01-Jan       49.9      51.1      52.9     -0.6   \n",
       "2010-01-01 20:00:00  49.9  01-Jan       49.5      50.5      51.9     -0.6   \n",
       "2010-01-01 21:00:00  49.5  01-Jan       48.9      49.9      51.1     -0.4   \n",
       "2010-01-01 22:00:00  48.9  01-Jan       48.4      49.5      50.5     -0.6   \n",
       "2010-01-01 23:00:00  48.4  01-Jan       47.9      48.9      49.9     -0.5   \n",
       "2010-01-02 00:00:00  47.9  01-Jan       47.6      48.4      49.5     -0.5   \n",
       "\n",
       "                     diff(3)  \n",
       "date                          \n",
       "2010-01-01 00:00:00      NaN  \n",
       "2010-01-01 01:00:00      NaN  \n",
       "2010-01-01 02:00:00      NaN  \n",
       "2010-01-01 03:00:00     -1.3  \n",
       "2010-01-01 04:00:00     -1.4  \n",
       "2010-01-01 05:00:00     -1.1  \n",
       "2010-01-01 06:00:00     -0.6  \n",
       "2010-01-01 07:00:00     -0.1  \n",
       "2010-01-01 08:00:00      0.6  \n",
       "2010-01-01 09:00:00      2.1  \n",
       "2010-01-01 10:00:00      3.6  \n",
       "2010-01-01 11:00:00      4.2  \n",
       "2010-01-01 12:00:00      3.6  \n",
       "2010-01-01 13:00:00      2.9  \n",
       "2010-01-01 14:00:00      2.4  \n",
       "2010-01-01 15:00:00      1.7  \n",
       "2010-01-01 16:00:00      0.5  \n",
       "2010-01-01 17:00:00     -1.1  \n",
       "2010-01-01 18:00:00     -2.2  \n",
       "2010-01-01 19:00:00     -2.4  \n",
       "2010-01-01 20:00:00     -2.0  \n",
       "2010-01-01 21:00:00     -1.6  \n",
       "2010-01-01 22:00:00     -1.6  \n",
       "2010-01-01 23:00:00     -1.5  \n",
       "2010-01-02 00:00:00     -1.6  "
      ]
     },
     "execution_count": 16,
     "metadata": {},
     "output_type": "execute_result"
    }
   ],
   "source": [
    "df['shift(-1)'] = df.temp.shift(-1)\n",
    "df['shift(1)'] = df.temp.shift(1)\n",
    "df['shift(3)'] = df.temp.shift(3)\n",
    "df['diff(1)'] = df.temp.diff(1)\n",
    "df['diff(3)'] = df.temp.diff(3)\n",
    "df.head(25)"
   ]
  },
  {
   "cell_type": "code",
   "execution_count": 17,
   "id": "4658ff3e",
   "metadata": {},
   "outputs": [
    {
     "data": {
      "text/plain": [
       "date\n",
       "2010-01-01 00:00:00    47.8\n",
       "2010-01-01 01:00:00    47.4\n",
       "2010-01-01 02:00:00    46.9\n",
       "2010-01-01 03:00:00    46.5\n",
       "2010-01-01 04:00:00    46.0\n",
       "Name: temp, dtype: float64"
      ]
     },
     "execution_count": 17,
     "metadata": {},
     "output_type": "execute_result"
    }
   ],
   "source": [
    "df.temp.head()"
   ]
  },
  {
   "cell_type": "code",
   "execution_count": 18,
   "id": "74251e22",
   "metadata": {},
   "outputs": [
    {
     "data": {
      "text/html": [
       "<div>\n",
       "<style scoped>\n",
       "    .dataframe tbody tr th:only-of-type {\n",
       "        vertical-align: middle;\n",
       "    }\n",
       "\n",
       "    .dataframe tbody tr th {\n",
       "        vertical-align: top;\n",
       "    }\n",
       "\n",
       "    .dataframe thead th {\n",
       "        text-align: right;\n",
       "    }\n",
       "</style>\n",
       "<table border=\"1\" class=\"dataframe\">\n",
       "  <thead>\n",
       "    <tr style=\"text-align: right;\">\n",
       "      <th></th>\n",
       "      <th>temp</th>\n",
       "      <th>shift(-1)</th>\n",
       "      <th>shift(1)</th>\n",
       "      <th>shift(3)</th>\n",
       "      <th>diff(1)</th>\n",
       "      <th>diff(3)</th>\n",
       "    </tr>\n",
       "  </thead>\n",
       "  <tbody>\n",
       "    <tr>\n",
       "      <th>count</th>\n",
       "      <td>8759.000000</td>\n",
       "      <td>8758.000000</td>\n",
       "      <td>8758.000000</td>\n",
       "      <td>8756.000000</td>\n",
       "      <td>8758.000000</td>\n",
       "      <td>8756.000000</td>\n",
       "    </tr>\n",
       "    <tr>\n",
       "      <th>mean</th>\n",
       "      <td>56.924112</td>\n",
       "      <td>56.925154</td>\n",
       "      <td>56.925097</td>\n",
       "      <td>56.926884</td>\n",
       "      <td>0.000057</td>\n",
       "      <td>0.000503</td>\n",
       "    </tr>\n",
       "    <tr>\n",
       "      <th>std</th>\n",
       "      <td>6.107079</td>\n",
       "      <td>6.106649</td>\n",
       "      <td>6.106732</td>\n",
       "      <td>6.106282</td>\n",
       "      <td>1.232681</td>\n",
       "      <td>3.470757</td>\n",
       "    </tr>\n",
       "    <tr>\n",
       "      <th>min</th>\n",
       "      <td>45.600000</td>\n",
       "      <td>45.600000</td>\n",
       "      <td>45.600000</td>\n",
       "      <td>45.600000</td>\n",
       "      <td>-3.000000</td>\n",
       "      <td>-7.600000</td>\n",
       "    </tr>\n",
       "    <tr>\n",
       "      <th>25%</th>\n",
       "      <td>52.300000</td>\n",
       "      <td>52.300000</td>\n",
       "      <td>52.300000</td>\n",
       "      <td>52.300000</td>\n",
       "      <td>-0.600000</td>\n",
       "      <td>-1.900000</td>\n",
       "    </tr>\n",
       "    <tr>\n",
       "      <th>50%</th>\n",
       "      <td>56.500000</td>\n",
       "      <td>56.500000</td>\n",
       "      <td>56.500000</td>\n",
       "      <td>56.500000</td>\n",
       "      <td>-0.300000</td>\n",
       "      <td>-1.000000</td>\n",
       "    </tr>\n",
       "    <tr>\n",
       "      <th>75%</th>\n",
       "      <td>60.700000</td>\n",
       "      <td>60.700000</td>\n",
       "      <td>60.700000</td>\n",
       "      <td>60.700000</td>\n",
       "      <td>0.975000</td>\n",
       "      <td>2.900000</td>\n",
       "    </tr>\n",
       "    <tr>\n",
       "      <th>max</th>\n",
       "      <td>72.200000</td>\n",
       "      <td>72.200000</td>\n",
       "      <td>72.200000</td>\n",
       "      <td>72.200000</td>\n",
       "      <td>3.300000</td>\n",
       "      <td>7.700000</td>\n",
       "    </tr>\n",
       "  </tbody>\n",
       "</table>\n",
       "</div>"
      ],
      "text/plain": [
       "              temp    shift(-1)     shift(1)     shift(3)      diff(1)  \\\n",
       "count  8759.000000  8758.000000  8758.000000  8756.000000  8758.000000   \n",
       "mean     56.924112    56.925154    56.925097    56.926884     0.000057   \n",
       "std       6.107079     6.106649     6.106732     6.106282     1.232681   \n",
       "min      45.600000    45.600000    45.600000    45.600000    -3.000000   \n",
       "25%      52.300000    52.300000    52.300000    52.300000    -0.600000   \n",
       "50%      56.500000    56.500000    56.500000    56.500000    -0.300000   \n",
       "75%      60.700000    60.700000    60.700000    60.700000     0.975000   \n",
       "max      72.200000    72.200000    72.200000    72.200000     3.300000   \n",
       "\n",
       "           diff(3)  \n",
       "count  8756.000000  \n",
       "mean      0.000503  \n",
       "std       3.470757  \n",
       "min      -7.600000  \n",
       "25%      -1.900000  \n",
       "50%      -1.000000  \n",
       "75%       2.900000  \n",
       "max       7.700000  "
      ]
     },
     "execution_count": 18,
     "metadata": {},
     "output_type": "execute_result"
    }
   ],
   "source": [
    "df.describe()"
   ]
  },
  {
   "cell_type": "code",
   "execution_count": 19,
   "id": "c307a543",
   "metadata": {},
   "outputs": [
    {
     "name": "stdout",
     "output_type": "stream",
     "text": [
      "<class 'pandas.core.frame.DataFrame'>\n",
      "DatetimeIndex: 8759 entries, 2010-01-01 00:00:00 to 2010-12-31 23:00:00\n",
      "Data columns (total 7 columns):\n",
      " #   Column     Non-Null Count  Dtype  \n",
      "---  ------     --------------  -----  \n",
      " 0   temp       8759 non-null   float64\n",
      " 1   month      8759 non-null   object \n",
      " 2   shift(-1)  8758 non-null   float64\n",
      " 3   shift(1)   8758 non-null   float64\n",
      " 4   shift(3)   8756 non-null   float64\n",
      " 5   diff(1)    8758 non-null   float64\n",
      " 6   diff(3)    8756 non-null   float64\n",
      "dtypes: float64(6), object(1)\n",
      "memory usage: 547.4+ KB\n"
     ]
    }
   ],
   "source": [
    "df.info()"
   ]
  },
  {
   "cell_type": "code",
   "execution_count": 20,
   "id": "75fad9bc",
   "metadata": {},
   "outputs": [
    {
     "data": {
      "text/html": [
       "<div>\n",
       "<style scoped>\n",
       "    .dataframe tbody tr th:only-of-type {\n",
       "        vertical-align: middle;\n",
       "    }\n",
       "\n",
       "    .dataframe tbody tr th {\n",
       "        vertical-align: top;\n",
       "    }\n",
       "\n",
       "    .dataframe thead th {\n",
       "        text-align: right;\n",
       "    }\n",
       "</style>\n",
       "<table border=\"1\" class=\"dataframe\">\n",
       "  <thead>\n",
       "    <tr style=\"text-align: right;\">\n",
       "      <th></th>\n",
       "      <th>temp</th>\n",
       "      <th>shift(-1)</th>\n",
       "      <th>shift(1)</th>\n",
       "      <th>shift(3)</th>\n",
       "      <th>diff(1)</th>\n",
       "      <th>diff(3)</th>\n",
       "      <th>rolling_3</th>\n",
       "      <th>rolling_5</th>\n",
       "      <th>rolling_7</th>\n",
       "    </tr>\n",
       "    <tr>\n",
       "      <th>date</th>\n",
       "      <th></th>\n",
       "      <th></th>\n",
       "      <th></th>\n",
       "      <th></th>\n",
       "      <th></th>\n",
       "      <th></th>\n",
       "      <th></th>\n",
       "      <th></th>\n",
       "      <th></th>\n",
       "    </tr>\n",
       "  </thead>\n",
       "  <tbody>\n",
       "    <tr>\n",
       "      <th>2010-01-03</th>\n",
       "      <td>49.288889</td>\n",
       "      <td>49.293056</td>\n",
       "      <td>49.298592</td>\n",
       "      <td>49.297101</td>\n",
       "      <td>0.011268</td>\n",
       "      <td>0.075362</td>\n",
       "      <td>NaN</td>\n",
       "      <td>NaN</td>\n",
       "      <td>NaN</td>\n",
       "    </tr>\n",
       "    <tr>\n",
       "      <th>2010-01-10</th>\n",
       "      <td>49.507143</td>\n",
       "      <td>49.507143</td>\n",
       "      <td>49.505952</td>\n",
       "      <td>49.503571</td>\n",
       "      <td>0.001190</td>\n",
       "      <td>0.003571</td>\n",
       "      <td>NaN</td>\n",
       "      <td>NaN</td>\n",
       "      <td>NaN</td>\n",
       "    </tr>\n",
       "    <tr>\n",
       "      <th>2010-01-17</th>\n",
       "      <td>49.829167</td>\n",
       "      <td>49.830952</td>\n",
       "      <td>49.827976</td>\n",
       "      <td>49.823810</td>\n",
       "      <td>0.001190</td>\n",
       "      <td>0.005357</td>\n",
       "      <td>49.541733</td>\n",
       "      <td>NaN</td>\n",
       "      <td>NaN</td>\n",
       "    </tr>\n",
       "    <tr>\n",
       "      <th>2010-01-24</th>\n",
       "      <td>50.192262</td>\n",
       "      <td>50.194643</td>\n",
       "      <td>50.190476</td>\n",
       "      <td>50.186905</td>\n",
       "      <td>0.001786</td>\n",
       "      <td>0.005357</td>\n",
       "      <td>49.842857</td>\n",
       "      <td>NaN</td>\n",
       "      <td>NaN</td>\n",
       "    </tr>\n",
       "    <tr>\n",
       "      <th>2010-01-31</th>\n",
       "      <td>50.705952</td>\n",
       "      <td>50.710119</td>\n",
       "      <td>50.701786</td>\n",
       "      <td>50.693452</td>\n",
       "      <td>0.004167</td>\n",
       "      <td>0.012500</td>\n",
       "      <td>50.242460</td>\n",
       "      <td>49.904683</td>\n",
       "      <td>NaN</td>\n",
       "    </tr>\n",
       "    <tr>\n",
       "      <th>2010-02-07</th>\n",
       "      <td>51.338690</td>\n",
       "      <td>51.342262</td>\n",
       "      <td>51.334524</td>\n",
       "      <td>51.326786</td>\n",
       "      <td>0.004167</td>\n",
       "      <td>0.011905</td>\n",
       "      <td>50.745635</td>\n",
       "      <td>50.314643</td>\n",
       "      <td>NaN</td>\n",
       "    </tr>\n",
       "    <tr>\n",
       "      <th>2010-02-14</th>\n",
       "      <td>52.095238</td>\n",
       "      <td>52.099405</td>\n",
       "      <td>52.091667</td>\n",
       "      <td>52.085714</td>\n",
       "      <td>0.003571</td>\n",
       "      <td>0.009524</td>\n",
       "      <td>51.379960</td>\n",
       "      <td>50.832262</td>\n",
       "      <td>50.422477</td>\n",
       "    </tr>\n",
       "    <tr>\n",
       "      <th>2010-02-21</th>\n",
       "      <td>52.630357</td>\n",
       "      <td>52.631548</td>\n",
       "      <td>52.629167</td>\n",
       "      <td>52.626190</td>\n",
       "      <td>0.001190</td>\n",
       "      <td>0.004167</td>\n",
       "      <td>52.021429</td>\n",
       "      <td>51.392500</td>\n",
       "      <td>50.899830</td>\n",
       "    </tr>\n",
       "    <tr>\n",
       "      <th>2010-02-28</th>\n",
       "      <td>52.911310</td>\n",
       "      <td>52.911310</td>\n",
       "      <td>52.911310</td>\n",
       "      <td>52.912500</td>\n",
       "      <td>0.000000</td>\n",
       "      <td>-0.001190</td>\n",
       "      <td>52.545635</td>\n",
       "      <td>51.936310</td>\n",
       "      <td>51.386139</td>\n",
       "    </tr>\n",
       "    <tr>\n",
       "      <th>2010-03-07</th>\n",
       "      <td>53.313690</td>\n",
       "      <td>53.316071</td>\n",
       "      <td>53.311310</td>\n",
       "      <td>53.306548</td>\n",
       "      <td>0.002381</td>\n",
       "      <td>0.007143</td>\n",
       "      <td>52.951786</td>\n",
       "      <td>52.457857</td>\n",
       "      <td>51.883929</td>\n",
       "    </tr>\n",
       "    <tr>\n",
       "      <th>2010-03-14</th>\n",
       "      <td>53.820359</td>\n",
       "      <td>53.822156</td>\n",
       "      <td>53.819162</td>\n",
       "      <td>53.814371</td>\n",
       "      <td>0.001198</td>\n",
       "      <td>0.005988</td>\n",
       "      <td>53.348453</td>\n",
       "      <td>52.954191</td>\n",
       "      <td>52.402228</td>\n",
       "    </tr>\n",
       "    <tr>\n",
       "      <th>2010-03-21</th>\n",
       "      <td>54.137500</td>\n",
       "      <td>54.136310</td>\n",
       "      <td>54.138690</td>\n",
       "      <td>54.141667</td>\n",
       "      <td>-0.001190</td>\n",
       "      <td>-0.004167</td>\n",
       "      <td>53.757183</td>\n",
       "      <td>53.362643</td>\n",
       "      <td>52.892449</td>\n",
       "    </tr>\n",
       "    <tr>\n",
       "      <th>2010-03-28</th>\n",
       "      <td>54.342857</td>\n",
       "      <td>54.342262</td>\n",
       "      <td>54.342857</td>\n",
       "      <td>54.343452</td>\n",
       "      <td>0.000000</td>\n",
       "      <td>-0.000595</td>\n",
       "      <td>54.100239</td>\n",
       "      <td>53.705143</td>\n",
       "      <td>53.321616</td>\n",
       "    </tr>\n",
       "    <tr>\n",
       "      <th>2010-04-04</th>\n",
       "      <td>54.570833</td>\n",
       "      <td>54.572024</td>\n",
       "      <td>54.569048</td>\n",
       "      <td>54.566667</td>\n",
       "      <td>0.001786</td>\n",
       "      <td>0.004167</td>\n",
       "      <td>54.350397</td>\n",
       "      <td>54.037048</td>\n",
       "      <td>53.675272</td>\n",
       "    </tr>\n",
       "    <tr>\n",
       "      <th>2010-04-11</th>\n",
       "      <td>54.935119</td>\n",
       "      <td>54.936310</td>\n",
       "      <td>54.934524</td>\n",
       "      <td>54.933333</td>\n",
       "      <td>0.000595</td>\n",
       "      <td>0.001786</td>\n",
       "      <td>54.616270</td>\n",
       "      <td>54.361334</td>\n",
       "      <td>54.004524</td>\n",
       "    </tr>\n",
       "    <tr>\n",
       "      <th>2010-04-18</th>\n",
       "      <td>55.518452</td>\n",
       "      <td>55.521429</td>\n",
       "      <td>55.515476</td>\n",
       "      <td>55.508929</td>\n",
       "      <td>0.002976</td>\n",
       "      <td>0.009524</td>\n",
       "      <td>55.008135</td>\n",
       "      <td>54.700952</td>\n",
       "      <td>54.376973</td>\n",
       "    </tr>\n",
       "    <tr>\n",
       "      <th>2010-04-25</th>\n",
       "      <td>56.155357</td>\n",
       "      <td>56.158929</td>\n",
       "      <td>56.151786</td>\n",
       "      <td>56.144643</td>\n",
       "      <td>0.003571</td>\n",
       "      <td>0.010714</td>\n",
       "      <td>55.536310</td>\n",
       "      <td>55.104524</td>\n",
       "      <td>54.782925</td>\n",
       "    </tr>\n",
       "    <tr>\n",
       "      <th>2010-05-02</th>\n",
       "      <td>56.884524</td>\n",
       "      <td>56.885714</td>\n",
       "      <td>56.883929</td>\n",
       "      <td>56.881548</td>\n",
       "      <td>0.000595</td>\n",
       "      <td>0.002976</td>\n",
       "      <td>56.186111</td>\n",
       "      <td>55.612857</td>\n",
       "      <td>55.220663</td>\n",
       "    </tr>\n",
       "    <tr>\n",
       "      <th>2010-05-09</th>\n",
       "      <td>57.213095</td>\n",
       "      <td>57.214881</td>\n",
       "      <td>57.211310</td>\n",
       "      <td>57.208333</td>\n",
       "      <td>0.001786</td>\n",
       "      <td>0.004762</td>\n",
       "      <td>56.750992</td>\n",
       "      <td>56.141310</td>\n",
       "      <td>55.660034</td>\n",
       "    </tr>\n",
       "    <tr>\n",
       "      <th>2010-05-16</th>\n",
       "      <td>57.629762</td>\n",
       "      <td>57.632143</td>\n",
       "      <td>57.627381</td>\n",
       "      <td>57.623214</td>\n",
       "      <td>0.002381</td>\n",
       "      <td>0.006548</td>\n",
       "      <td>57.242460</td>\n",
       "      <td>56.680238</td>\n",
       "      <td>56.129592</td>\n",
       "    </tr>\n",
       "  </tbody>\n",
       "</table>\n",
       "</div>"
      ],
      "text/plain": [
       "                 temp  shift(-1)   shift(1)   shift(3)   diff(1)   diff(3)  \\\n",
       "date                                                                         \n",
       "2010-01-03  49.288889  49.293056  49.298592  49.297101  0.011268  0.075362   \n",
       "2010-01-10  49.507143  49.507143  49.505952  49.503571  0.001190  0.003571   \n",
       "2010-01-17  49.829167  49.830952  49.827976  49.823810  0.001190  0.005357   \n",
       "2010-01-24  50.192262  50.194643  50.190476  50.186905  0.001786  0.005357   \n",
       "2010-01-31  50.705952  50.710119  50.701786  50.693452  0.004167  0.012500   \n",
       "2010-02-07  51.338690  51.342262  51.334524  51.326786  0.004167  0.011905   \n",
       "2010-02-14  52.095238  52.099405  52.091667  52.085714  0.003571  0.009524   \n",
       "2010-02-21  52.630357  52.631548  52.629167  52.626190  0.001190  0.004167   \n",
       "2010-02-28  52.911310  52.911310  52.911310  52.912500  0.000000 -0.001190   \n",
       "2010-03-07  53.313690  53.316071  53.311310  53.306548  0.002381  0.007143   \n",
       "2010-03-14  53.820359  53.822156  53.819162  53.814371  0.001198  0.005988   \n",
       "2010-03-21  54.137500  54.136310  54.138690  54.141667 -0.001190 -0.004167   \n",
       "2010-03-28  54.342857  54.342262  54.342857  54.343452  0.000000 -0.000595   \n",
       "2010-04-04  54.570833  54.572024  54.569048  54.566667  0.001786  0.004167   \n",
       "2010-04-11  54.935119  54.936310  54.934524  54.933333  0.000595  0.001786   \n",
       "2010-04-18  55.518452  55.521429  55.515476  55.508929  0.002976  0.009524   \n",
       "2010-04-25  56.155357  56.158929  56.151786  56.144643  0.003571  0.010714   \n",
       "2010-05-02  56.884524  56.885714  56.883929  56.881548  0.000595  0.002976   \n",
       "2010-05-09  57.213095  57.214881  57.211310  57.208333  0.001786  0.004762   \n",
       "2010-05-16  57.629762  57.632143  57.627381  57.623214  0.002381  0.006548   \n",
       "\n",
       "            rolling_3  rolling_5  rolling_7  \n",
       "date                                         \n",
       "2010-01-03        NaN        NaN        NaN  \n",
       "2010-01-10        NaN        NaN        NaN  \n",
       "2010-01-17  49.541733        NaN        NaN  \n",
       "2010-01-24  49.842857        NaN        NaN  \n",
       "2010-01-31  50.242460  49.904683        NaN  \n",
       "2010-02-07  50.745635  50.314643        NaN  \n",
       "2010-02-14  51.379960  50.832262  50.422477  \n",
       "2010-02-21  52.021429  51.392500  50.899830  \n",
       "2010-02-28  52.545635  51.936310  51.386139  \n",
       "2010-03-07  52.951786  52.457857  51.883929  \n",
       "2010-03-14  53.348453  52.954191  52.402228  \n",
       "2010-03-21  53.757183  53.362643  52.892449  \n",
       "2010-03-28  54.100239  53.705143  53.321616  \n",
       "2010-04-04  54.350397  54.037048  53.675272  \n",
       "2010-04-11  54.616270  54.361334  54.004524  \n",
       "2010-04-18  55.008135  54.700952  54.376973  \n",
       "2010-04-25  55.536310  55.104524  54.782925  \n",
       "2010-05-02  56.186111  55.612857  55.220663  \n",
       "2010-05-09  56.750992  56.141310  55.660034  \n",
       "2010-05-16  57.242460  56.680238  56.129592  "
      ]
     },
     "execution_count": 20,
     "metadata": {},
     "output_type": "execute_result"
    },
    {
     "data": {
      "image/png": "[encoded data removed]",
      "text/plain": [
       "<Figure size 432x288 with 1 Axes>"
      ]
     },
     "metadata": {
      "needs_background": "light"
     },
     "output_type": "display_data"
    }
   ],
   "source": [
    "df = df.resample('W').mean().assign(\n",
    "    rolling_3=lambda df: df.temp.rolling(3).mean(),\n",
    "    rolling_5=lambda df: df.temp.rolling(5).mean(),\n",
    "    rolling_7=lambda df: df.temp.rolling(7).mean(),\n",
    ")\n",
    "df.plot()\n",
    "df.head(20)"
   ]
  },
  {
   "cell_type": "markdown",
   "id": "37c846e9",
   "metadata": {},
   "source": [
    "# vega_datasets-seattle_weather\n"
   ]
  },
  {
   "cell_type": "code",
   "execution_count": 21,
   "id": "499f0a0f",
   "metadata": {},
   "outputs": [
    {
     "data": {
      "text/html": [
       "<div>\n",
       "<style scoped>\n",
       "    .dataframe tbody tr th:only-of-type {\n",
       "        vertical-align: middle;\n",
       "    }\n",
       "\n",
       "    .dataframe tbody tr th {\n",
       "        vertical-align: top;\n",
       "    }\n",
       "\n",
       "    .dataframe thead th {\n",
       "        text-align: right;\n",
       "    }\n",
       "</style>\n",
       "<table border=\"1\" class=\"dataframe\">\n",
       "  <thead>\n",
       "    <tr style=\"text-align: right;\">\n",
       "      <th></th>\n",
       "      <th>date</th>\n",
       "      <th>precipitation</th>\n",
       "      <th>temp_max</th>\n",
       "      <th>temp_min</th>\n",
       "      <th>wind</th>\n",
       "      <th>weather</th>\n",
       "    </tr>\n",
       "  </thead>\n",
       "  <tbody>\n",
       "    <tr>\n",
       "      <th>0</th>\n",
       "      <td>2012-01-01</td>\n",
       "      <td>0.0</td>\n",
       "      <td>12.8</td>\n",
       "      <td>5.0</td>\n",
       "      <td>4.7</td>\n",
       "      <td>drizzle</td>\n",
       "    </tr>\n",
       "    <tr>\n",
       "      <th>1</th>\n",
       "      <td>2012-01-02</td>\n",
       "      <td>10.9</td>\n",
       "      <td>10.6</td>\n",
       "      <td>2.8</td>\n",
       "      <td>4.5</td>\n",
       "      <td>rain</td>\n",
       "    </tr>\n",
       "    <tr>\n",
       "      <th>2</th>\n",
       "      <td>2012-01-03</td>\n",
       "      <td>0.8</td>\n",
       "      <td>11.7</td>\n",
       "      <td>7.2</td>\n",
       "      <td>2.3</td>\n",
       "      <td>rain</td>\n",
       "    </tr>\n",
       "    <tr>\n",
       "      <th>3</th>\n",
       "      <td>2012-01-04</td>\n",
       "      <td>20.3</td>\n",
       "      <td>12.2</td>\n",
       "      <td>5.6</td>\n",
       "      <td>4.7</td>\n",
       "      <td>rain</td>\n",
       "    </tr>\n",
       "    <tr>\n",
       "      <th>4</th>\n",
       "      <td>2012-01-05</td>\n",
       "      <td>1.3</td>\n",
       "      <td>8.9</td>\n",
       "      <td>2.8</td>\n",
       "      <td>6.1</td>\n",
       "      <td>rain</td>\n",
       "    </tr>\n",
       "  </tbody>\n",
       "</table>\n",
       "</div>"
      ],
      "text/plain": [
       "        date  precipitation  temp_max  temp_min  wind  weather\n",
       "0 2012-01-01            0.0      12.8       5.0   4.7  drizzle\n",
       "1 2012-01-02           10.9      10.6       2.8   4.5     rain\n",
       "2 2012-01-03            0.8      11.7       7.2   2.3     rain\n",
       "3 2012-01-04           20.3      12.2       5.6   4.7     rain\n",
       "4 2012-01-05            1.3       8.9       2.8   6.1     rain"
      ]
     },
     "execution_count": 21,
     "metadata": {},
     "output_type": "execute_result"
    }
   ],
   "source": [
    "df1 = data.seattle_weather()\n",
    "df1.head()"
   ]
  },
  {
   "cell_type": "code",
   "execution_count": 22,
   "id": "d6b31a9e",
   "metadata": {},
   "outputs": [
    {
     "data": {
      "text/plain": [
       "array(['drizzle', 'fog', 'rain', 'snow', 'sun'], dtype=object)"
      ]
     },
     "execution_count": 22,
     "metadata": {},
     "output_type": "execute_result"
    }
   ],
   "source": [
    "df1.index = df1.date\n",
    "df1 = df1.drop(columns='date')\n",
    "df1.weather.sort_values().unique()"
   ]
  },
  {
   "cell_type": "markdown",
   "id": "ebac623e",
   "metadata": {},
   "source": [
    "## Use the dataset to answer the following questions:\n",
    "\n"
   ]
  },
  {
   "cell_type": "markdown",
   "id": "20c1a2df",
   "metadata": {},
   "source": [
    "**Which year and month combination has the highest amount of precipitation?**"
   ]
  },
  {
   "cell_type": "code",
   "execution_count": 23,
   "id": "b40d2ccf",
   "metadata": {},
   "outputs": [
    {
     "data": {
      "text/plain": [
       "(2015, 12)"
      ]
     },
     "execution_count": 23,
     "metadata": {},
     "output_type": "execute_result"
    }
   ],
   "source": [
    "(df1.resample('M').sum().precipitation.idxmax().year, \n",
    " df1.resample('M').sum().precipitation.idxmax().month) \n"
   ]
  },
  {
   "cell_type": "markdown",
   "id": "666b2b4c",
   "metadata": {},
   "source": [
    "**Visualize the amount of monthly precipitation over time.**\n"
   ]
  },
  {
   "cell_type": "code",
   "execution_count": 24,
   "id": "cad87aea",
   "metadata": {},
   "outputs": [
    {
     "data": {
      "image/png": "[encoded data removed]",
      "text/plain": [
       "<Figure size 432x288 with 1 Axes>"
      ]
     },
     "metadata": {
      "needs_background": "light"
     },
     "output_type": "display_data"
    }
   ],
   "source": [
    "df1.precipitation.resample('M').sum().plot()\n",
    "plt.show()"
   ]
  },
  {
   "cell_type": "markdown",
   "id": "299de1e8",
   "metadata": {},
   "source": [
    "**Visualize the amount of wind over time. Choose a time interval you think is appropriate.**"
   ]
  },
  {
   "cell_type": "code",
   "execution_count": 59,
   "id": "24474247",
   "metadata": {},
   "outputs": [
    {
     "data": {
      "image/png": "[encoded data removed]",
      "text/plain": [
       "<Figure size 432x288 with 1 Axes>"
      ]
     },
     "metadata": {
      "needs_background": "light"
     },
     "output_type": "display_data"
    }
   ],
   "source": [
    "df1.wind.resample('M').max().plot()\n",
    "plt.show()"
   ]
  },
  {
   "cell_type": "markdown",
   "id": "7d9d3132",
   "metadata": {},
   "source": [
    "**Which year-month combination is the windiest?**\n",
    "\n"
   ]
  },
  {
   "cell_type": "code",
   "execution_count": 26,
   "id": "61a603ee",
   "metadata": {},
   "outputs": [
    {
     "data": {
      "text/plain": [
       "(2014, 2)"
      ]
     },
     "execution_count": 26,
     "metadata": {},
     "output_type": "execute_result"
    }
   ],
   "source": [
    "(df1.wind.resample('M').mean().idxmax().year,\n",
    " df1.wind.resample('M').mean().idxmax().month)"
   ]
  },
  {
   "cell_type": "markdown",
   "id": "0162280a",
   "metadata": {},
   "source": [
    "**What's the sunniest year? (Hint: which day has the highest number of days where weather == sun?)**"
   ]
  },
  {
   "cell_type": "code",
   "execution_count": 27,
   "id": "f9317449",
   "metadata": {},
   "outputs": [
    {
     "data": {
      "text/plain": [
       "2014"
      ]
     },
     "execution_count": 27,
     "metadata": {},
     "output_type": "execute_result"
    }
   ],
   "source": [
    "(df1.weather == 'sun').resample('Y').sum().idxmax().year\n"
   ]
  },
  {
   "cell_type": "markdown",
   "id": "8ab26ba8",
   "metadata": {},
   "source": [
    "**In which month does it rain the most?**\n",
    "\n"
   ]
  },
  {
   "cell_type": "code",
   "execution_count": 28,
   "id": "dfc890df",
   "metadata": {},
   "outputs": [
    {
     "data": {
      "text/plain": [
       "2"
      ]
     },
     "execution_count": 28,
     "metadata": {},
     "output_type": "execute_result"
    }
   ],
   "source": [
    "df1['month'] = df1.index.month\n",
    "df1['rain'] = (df1.weather == 'rain')\n",
    "df1.groupby(by='month').mean().rain.idxmax()"
   ]
  },
  {
   "cell_type": "markdown",
   "id": "20ed3d64",
   "metadata": {},
   "source": [
    "**Which month has the most number of days with a non-zero amount of precipitation?**\n",
    "\n"
   ]
  },
  {
   "cell_type": "code",
   "execution_count": 29,
   "id": "5bdfa9c8",
   "metadata": {},
   "outputs": [
    {
     "data": {
      "text/plain": [
       "12"
      ]
     },
     "execution_count": 29,
     "metadata": {},
     "output_type": "execute_result"
    }
   ],
   "source": [
    "df1['some_precip'] = (df1.precipitation > 0)\n",
    "by_month = df1.resample('M').sum()\n",
    "by_month['month'] = by_month.index.month\n",
    "by_month.groupby(by='month').mean().some_precip.idxmax()"
   ]
  },
  {
   "cell_type": "markdown",
   "id": "1f1b946a",
   "metadata": {},
   "source": [
    "# vega_datasets-data.flights_20k()"
   ]
  },
  {
   "cell_type": "code",
   "execution_count": 30,
   "id": "a5aabe68",
   "metadata": {},
   "outputs": [
    {
     "data": {
      "text/html": [
       "<div>\n",
       "<style scoped>\n",
       "    .dataframe tbody tr th:only-of-type {\n",
       "        vertical-align: middle;\n",
       "    }\n",
       "\n",
       "    .dataframe tbody tr th {\n",
       "        vertical-align: top;\n",
       "    }\n",
       "\n",
       "    .dataframe thead th {\n",
       "        text-align: right;\n",
       "    }\n",
       "</style>\n",
       "<table border=\"1\" class=\"dataframe\">\n",
       "  <thead>\n",
       "    <tr style=\"text-align: right;\">\n",
       "      <th></th>\n",
       "      <th>date</th>\n",
       "      <th>delay</th>\n",
       "      <th>distance</th>\n",
       "      <th>origin</th>\n",
       "      <th>destination</th>\n",
       "    </tr>\n",
       "  </thead>\n",
       "  <tbody>\n",
       "    <tr>\n",
       "      <th>0</th>\n",
       "      <td>2001-01-13 14:56:00</td>\n",
       "      <td>32</td>\n",
       "      <td>417</td>\n",
       "      <td>SAN</td>\n",
       "      <td>SJC</td>\n",
       "    </tr>\n",
       "    <tr>\n",
       "      <th>1</th>\n",
       "      <td>2001-01-31 16:40:00</td>\n",
       "      <td>-5</td>\n",
       "      <td>1093</td>\n",
       "      <td>FLL</td>\n",
       "      <td>ISP</td>\n",
       "    </tr>\n",
       "    <tr>\n",
       "      <th>2</th>\n",
       "      <td>2001-02-11 18:39:00</td>\n",
       "      <td>3</td>\n",
       "      <td>293</td>\n",
       "      <td>LBB</td>\n",
       "      <td>DAL</td>\n",
       "    </tr>\n",
       "    <tr>\n",
       "      <th>3</th>\n",
       "      <td>2001-01-10 21:00:00</td>\n",
       "      <td>-15</td>\n",
       "      <td>550</td>\n",
       "      <td>MSY</td>\n",
       "      <td>MCO</td>\n",
       "    </tr>\n",
       "    <tr>\n",
       "      <th>4</th>\n",
       "      <td>2001-03-30 21:45:00</td>\n",
       "      <td>-2</td>\n",
       "      <td>229</td>\n",
       "      <td>STL</td>\n",
       "      <td>IND</td>\n",
       "    </tr>\n",
       "  </tbody>\n",
       "</table>\n",
       "</div>"
      ],
      "text/plain": [
       "                 date  delay  distance origin destination\n",
       "0 2001-01-13 14:56:00     32       417    SAN         SJC\n",
       "1 2001-01-31 16:40:00     -5      1093    FLL         ISP\n",
       "2 2001-02-11 18:39:00      3       293    LBB         DAL\n",
       "3 2001-01-10 21:00:00    -15       550    MSY         MCO\n",
       "4 2001-03-30 21:45:00     -2       229    STL         IND"
      ]
     },
     "execution_count": 30,
     "metadata": {},
     "output_type": "execute_result"
    }
   ],
   "source": [
    "df3 = data.flights_20k()\n",
    "df3.head()"
   ]
  },
  {
   "cell_type": "code",
   "execution_count": 31,
   "id": "6ef6895b",
   "metadata": {},
   "outputs": [],
   "source": [
    "df3.index = df3.date\n",
    "df3 = df3.drop(columns='date')"
   ]
  },
  {
   "cell_type": "code",
   "execution_count": 32,
   "id": "03d025cf",
   "metadata": {},
   "outputs": [],
   "source": [
    "df3['month'] = df3.index.month\n",
    "df3['weekday'] = df3.index.weekday\n",
    "df3['hour'] = df3.index.hour\n"
   ]
  },
  {
   "cell_type": "markdown",
   "id": "f45b4e45",
   "metadata": {},
   "source": [
    "**1).Convert any negative delays to 0.**\n"
   ]
  },
  {
   "cell_type": "code",
   "execution_count": 33,
   "id": "e8bcd44d",
   "metadata": {},
   "outputs": [
    {
     "data": {
      "text/html": [
       "<div>\n",
       "<style scoped>\n",
       "    .dataframe tbody tr th:only-of-type {\n",
       "        vertical-align: middle;\n",
       "    }\n",
       "\n",
       "    .dataframe tbody tr th {\n",
       "        vertical-align: top;\n",
       "    }\n",
       "\n",
       "    .dataframe thead th {\n",
       "        text-align: right;\n",
       "    }\n",
       "</style>\n",
       "<table border=\"1\" class=\"dataframe\">\n",
       "  <thead>\n",
       "    <tr style=\"text-align: right;\">\n",
       "      <th></th>\n",
       "      <th>delay</th>\n",
       "      <th>distance</th>\n",
       "      <th>origin</th>\n",
       "      <th>destination</th>\n",
       "      <th>month</th>\n",
       "      <th>weekday</th>\n",
       "      <th>hour</th>\n",
       "    </tr>\n",
       "    <tr>\n",
       "      <th>date</th>\n",
       "      <th></th>\n",
       "      <th></th>\n",
       "      <th></th>\n",
       "      <th></th>\n",
       "      <th></th>\n",
       "      <th></th>\n",
       "      <th></th>\n",
       "    </tr>\n",
       "  </thead>\n",
       "  <tbody>\n",
       "    <tr>\n",
       "      <th>2001-01-13 14:56:00</th>\n",
       "      <td>32</td>\n",
       "      <td>417</td>\n",
       "      <td>SAN</td>\n",
       "      <td>SJC</td>\n",
       "      <td>1</td>\n",
       "      <td>5</td>\n",
       "      <td>14</td>\n",
       "    </tr>\n",
       "    <tr>\n",
       "      <th>2001-01-31 16:40:00</th>\n",
       "      <td>0</td>\n",
       "      <td>1093</td>\n",
       "      <td>FLL</td>\n",
       "      <td>ISP</td>\n",
       "      <td>1</td>\n",
       "      <td>2</td>\n",
       "      <td>16</td>\n",
       "    </tr>\n",
       "    <tr>\n",
       "      <th>2001-02-11 18:39:00</th>\n",
       "      <td>3</td>\n",
       "      <td>293</td>\n",
       "      <td>LBB</td>\n",
       "      <td>DAL</td>\n",
       "      <td>2</td>\n",
       "      <td>6</td>\n",
       "      <td>18</td>\n",
       "    </tr>\n",
       "    <tr>\n",
       "      <th>2001-01-10 21:00:00</th>\n",
       "      <td>0</td>\n",
       "      <td>550</td>\n",
       "      <td>MSY</td>\n",
       "      <td>MCO</td>\n",
       "      <td>1</td>\n",
       "      <td>2</td>\n",
       "      <td>21</td>\n",
       "    </tr>\n",
       "    <tr>\n",
       "      <th>2001-03-30 21:45:00</th>\n",
       "      <td>0</td>\n",
       "      <td>229</td>\n",
       "      <td>STL</td>\n",
       "      <td>IND</td>\n",
       "      <td>3</td>\n",
       "      <td>4</td>\n",
       "      <td>21</td>\n",
       "    </tr>\n",
       "  </tbody>\n",
       "</table>\n",
       "</div>"
      ],
      "text/plain": [
       "                     delay  distance origin destination  month  weekday  hour\n",
       "date                                                                         \n",
       "2001-01-13 14:56:00     32       417    SAN         SJC      1        5    14\n",
       "2001-01-31 16:40:00      0      1093    FLL         ISP      1        2    16\n",
       "2001-02-11 18:39:00      3       293    LBB         DAL      2        6    18\n",
       "2001-01-10 21:00:00      0       550    MSY         MCO      1        2    21\n",
       "2001-03-30 21:45:00      0       229    STL         IND      3        4    21"
      ]
     },
     "execution_count": 33,
     "metadata": {},
     "output_type": "execute_result"
    }
   ],
   "source": [
    "df3['delay'] = np.where(df3.delay < 0, 0, df3.delay)\n",
    "\n",
    "df3.head()\n"
   ]
  },
  {
   "cell_type": "markdown",
   "id": "27c10b3e",
   "metadata": {},
   "source": [
    "**2).Which hour of the day has the highest average delay?**\n"
   ]
  },
  {
   "cell_type": "code",
   "execution_count": 34,
   "id": "9ce85d26",
   "metadata": {},
   "outputs": [
    {
     "data": {
      "text/plain": [
       "3"
      ]
     },
     "execution_count": 34,
     "metadata": {},
     "output_type": "execute_result"
    }
   ],
   "source": [
    "df3.groupby(by='hour').delay.mean().idxmax()"
   ]
  },
  {
   "cell_type": "code",
   "execution_count": 35,
   "id": "fc283fbe",
   "metadata": {},
   "outputs": [
    {
     "data": {
      "text/plain": [
       "hour\n",
       "0     127.916667\n",
       "1     170.000000\n",
       "3     302.500000\n",
       "5       0.513514\n",
       "6       2.494856\n",
       "7       3.071932\n",
       "8       4.030483\n",
       "9       5.002504\n",
       "10      5.850953\n",
       "11      7.361495\n",
       "12      9.214341\n",
       "13     11.453311\n",
       "14     10.747320\n",
       "15     13.137592\n",
       "16     13.881068\n",
       "17     13.199580\n",
       "18     14.514218\n",
       "19     16.256557\n",
       "20     17.889778\n",
       "21     21.626768\n",
       "22     32.704607\n",
       "23     65.353846\n",
       "Name: delay, dtype: float64"
      ]
     },
     "execution_count": 35,
     "metadata": {},
     "output_type": "execute_result"
    }
   ],
   "source": [
    "df3.groupby(by='hour').delay.mean()"
   ]
  },
  {
   "cell_type": "code",
   "execution_count": 36,
   "id": "2b0e5ecb",
   "metadata": {},
   "outputs": [
    {
     "data": {
      "image/png": "[encoded data removed]",
      "text/plain": [
       "<Figure size 432x288 with 1 Axes>"
      ]
     },
     "metadata": {
      "needs_background": "light"
     },
     "output_type": "display_data"
    }
   ],
   "source": [
    "df3.groupby(by='hour').delay.mean().plot()\n",
    "plt.show()"
   ]
  },
  {
   "cell_type": "markdown",
   "id": "4502ace2",
   "metadata": {},
   "source": [
    "**3).Does the day of the week make a difference in the delay amount?**\n"
   ]
  },
  {
   "cell_type": "code",
   "execution_count": 61,
   "id": "f4958bef",
   "metadata": {},
   "outputs": [
    {
     "data": {
      "text/plain": [
       "4"
      ]
     },
     "execution_count": 61,
     "metadata": {},
     "output_type": "execute_result"
    }
   ],
   "source": [
    "df3.groupby(by='weekday').delay.mean().idxmax()"
   ]
  },
  {
   "cell_type": "code",
   "execution_count": 38,
   "id": "c89e1b34",
   "metadata": {},
   "outputs": [
    {
     "data": {
      "text/plain": [
       "weekday\n",
       "0     7.165772\n",
       "1     9.410866\n",
       "2    11.032478\n",
       "3    12.821322\n",
       "4    17.757596\n",
       "5     8.431498\n",
       "6    10.413542\n",
       "Name: delay, dtype: float64"
      ]
     },
     "execution_count": 38,
     "metadata": {},
     "output_type": "execute_result"
    }
   ],
   "source": [
    "df3.groupby(by='weekday').delay.mean()"
   ]
  },
  {
   "cell_type": "code",
   "execution_count": 39,
   "id": "d2b712e0",
   "metadata": {},
   "outputs": [
    {
     "data": {
      "image/png": "[encoded data removed]",
      "text/plain": [
       "<Figure size 432x288 with 1 Axes>"
      ]
     },
     "metadata": {
      "needs_background": "light"
     },
     "output_type": "display_data"
    }
   ],
   "source": [
    "df3.groupby(by='weekday').delay.mean().plot()\n",
    "plt.show()"
   ]
  },
  {
   "cell_type": "markdown",
   "id": "2f2dfde8",
   "metadata": {},
   "source": [
    "**4).Does the month make a difference in the delay amount?**\n"
   ]
  },
  {
   "cell_type": "code",
   "execution_count": 40,
   "id": "65574892",
   "metadata": {},
   "outputs": [
    {
     "data": {
      "text/plain": [
       "2"
      ]
     },
     "execution_count": 40,
     "metadata": {},
     "output_type": "execute_result"
    }
   ],
   "source": [
    "df3.groupby(by='month').delay.mean().idxmax()"
   ]
  },
  {
   "cell_type": "code",
   "execution_count": 41,
   "id": "f313b7e7",
   "metadata": {},
   "outputs": [
    {
     "data": {
      "text/plain": [
       "month\n",
       "1    11.301592\n",
       "2    12.306106\n",
       "3     9.875287\n",
       "Name: delay, dtype: float64"
      ]
     },
     "execution_count": 41,
     "metadata": {},
     "output_type": "execute_result"
    }
   ],
   "source": [
    "df3.groupby(by='month').delay.mean()"
   ]
  },
  {
   "cell_type": "code",
   "execution_count": 42,
   "id": "81b8fcce",
   "metadata": {},
   "outputs": [
    {
     "data": {
      "image/png": "[encoded data removed]",
      "text/plain": [
       "<Figure size 432x288 with 1 Axes>"
      ]
     },
     "metadata": {
      "needs_background": "light"
     },
     "output_type": "display_data"
    }
   ],
   "source": [
    "df3.groupby(by='month').delay.mean().plot()\n",
    "plt.show()"
   ]
  },
  {
   "cell_type": "markdown",
   "id": "66deac37",
   "metadata": {},
   "source": [
    "# Bonus:"
   ]
  },
  {
   "cell_type": "markdown",
   "id": "c6dbb43f",
   "metadata": {},
   "source": [
    "# vega_datasets-iowa_electricity()"
   ]
  },
  {
   "cell_type": "code",
   "execution_count": 43,
   "id": "20d033ad",
   "metadata": {},
   "outputs": [
    {
     "data": {
      "text/html": [
       "<div>\n",
       "<style scoped>\n",
       "    .dataframe tbody tr th:only-of-type {\n",
       "        vertical-align: middle;\n",
       "    }\n",
       "\n",
       "    .dataframe tbody tr th {\n",
       "        vertical-align: top;\n",
       "    }\n",
       "\n",
       "    .dataframe thead th {\n",
       "        text-align: right;\n",
       "    }\n",
       "</style>\n",
       "<table border=\"1\" class=\"dataframe\">\n",
       "  <thead>\n",
       "    <tr style=\"text-align: right;\">\n",
       "      <th></th>\n",
       "      <th>year</th>\n",
       "      <th>source</th>\n",
       "      <th>net_generation</th>\n",
       "    </tr>\n",
       "  </thead>\n",
       "  <tbody>\n",
       "    <tr>\n",
       "      <th>0</th>\n",
       "      <td>2001-01-01</td>\n",
       "      <td>Fossil Fuels</td>\n",
       "      <td>35361</td>\n",
       "    </tr>\n",
       "    <tr>\n",
       "      <th>1</th>\n",
       "      <td>2002-01-01</td>\n",
       "      <td>Fossil Fuels</td>\n",
       "      <td>35991</td>\n",
       "    </tr>\n",
       "    <tr>\n",
       "      <th>2</th>\n",
       "      <td>2003-01-01</td>\n",
       "      <td>Fossil Fuels</td>\n",
       "      <td>36234</td>\n",
       "    </tr>\n",
       "    <tr>\n",
       "      <th>3</th>\n",
       "      <td>2004-01-01</td>\n",
       "      <td>Fossil Fuels</td>\n",
       "      <td>36205</td>\n",
       "    </tr>\n",
       "    <tr>\n",
       "      <th>4</th>\n",
       "      <td>2005-01-01</td>\n",
       "      <td>Fossil Fuels</td>\n",
       "      <td>36883</td>\n",
       "    </tr>\n",
       "  </tbody>\n",
       "</table>\n",
       "</div>"
      ],
      "text/plain": [
       "        year        source  net_generation\n",
       "0 2001-01-01  Fossil Fuels           35361\n",
       "1 2002-01-01  Fossil Fuels           35991\n",
       "2 2003-01-01  Fossil Fuels           36234\n",
       "3 2004-01-01  Fossil Fuels           36205\n",
       "4 2005-01-01  Fossil Fuels           36883"
      ]
     },
     "execution_count": 43,
     "metadata": {},
     "output_type": "execute_result"
    }
   ],
   "source": [
    "df4 = data.iowa_electricity()\n",
    "df4.head()"
   ]
  },
  {
   "cell_type": "code",
   "execution_count": 44,
   "id": "523079d9",
   "metadata": {},
   "outputs": [
    {
     "data": {
      "text/plain": [
       "array(['Fossil Fuels', 'Nuclear Energy', 'Renewables'], dtype=object)"
      ]
     },
     "execution_count": 44,
     "metadata": {},
     "output_type": "execute_result"
    }
   ],
   "source": [
    "df4.source.sort_values().unique()"
   ]
  },
  {
   "cell_type": "code",
   "execution_count": 45,
   "id": "20d1ee27",
   "metadata": {},
   "outputs": [
    {
     "data": {
      "text/plain": [
       "51"
      ]
     },
     "execution_count": 45,
     "metadata": {},
     "output_type": "execute_result"
    }
   ],
   "source": [
    "df4.net_generation.sort_values().nunique()"
   ]
  },
  {
   "cell_type": "code",
   "execution_count": 46,
   "id": "c1261fe4",
   "metadata": {},
   "outputs": [],
   "source": [
    "df4.index = df4.year\n",
    "df4 = df4.drop(columns='year')"
   ]
  },
  {
   "cell_type": "code",
   "execution_count": 47,
   "id": "e4464aff",
   "metadata": {},
   "outputs": [],
   "source": [
    "df4['years'] = df4.index.year\n",
    "df4['month'] = df4.index.month\n",
    "df4['weekday'] = df4.index.weekday"
   ]
  },
  {
   "cell_type": "code",
   "execution_count": 48,
   "id": "c7a6f3fa",
   "metadata": {},
   "outputs": [
    {
     "data": {
      "text/plain": [
       "17"
      ]
     },
     "execution_count": 48,
     "metadata": {},
     "output_type": "execute_result"
    }
   ],
   "source": [
    "df4.years.sort_values().nunique()"
   ]
  },
  {
   "cell_type": "code",
   "execution_count": 49,
   "id": "1648e126",
   "metadata": {},
   "outputs": [
    {
     "data": {
      "text/plain": [
       "1"
      ]
     },
     "execution_count": 49,
     "metadata": {},
     "output_type": "execute_result"
    }
   ],
   "source": [
    "df4.month.sort_values().nunique()"
   ]
  },
  {
   "cell_type": "code",
   "execution_count": 50,
   "id": "9054307d",
   "metadata": {},
   "outputs": [
    {
     "data": {
      "text/plain": [
       "7"
      ]
     },
     "execution_count": 50,
     "metadata": {},
     "output_type": "execute_result"
    }
   ],
   "source": [
    "df4.weekday.sort_values().nunique()"
   ]
  },
  {
   "cell_type": "code",
   "execution_count": 51,
   "id": "9998c681",
   "metadata": {},
   "outputs": [
    {
     "name": "stdout",
     "output_type": "stream",
     "text": [
      "<class 'pandas.core.frame.DataFrame'>\n",
      "DatetimeIndex: 51 entries, 2001-01-01 to 2017-01-01\n",
      "Data columns (total 5 columns):\n",
      " #   Column          Non-Null Count  Dtype \n",
      "---  ------          --------------  ----- \n",
      " 0   source          51 non-null     object\n",
      " 1   net_generation  51 non-null     int64 \n",
      " 2   years           51 non-null     int64 \n",
      " 3   month           51 non-null     int64 \n",
      " 4   weekday         51 non-null     int64 \n",
      "dtypes: int64(4), object(1)\n",
      "memory usage: 2.4+ KB\n"
     ]
    }
   ],
   "source": [
    "df4.info()"
   ]
  },
  {
   "cell_type": "code",
   "execution_count": 52,
   "id": "b64486c9",
   "metadata": {},
   "outputs": [
    {
     "data": {
      "text/html": [
       "<div>\n",
       "<style scoped>\n",
       "    .dataframe tbody tr th:only-of-type {\n",
       "        vertical-align: middle;\n",
       "    }\n",
       "\n",
       "    .dataframe tbody tr th {\n",
       "        vertical-align: top;\n",
       "    }\n",
       "\n",
       "    .dataframe thead th {\n",
       "        text-align: right;\n",
       "    }\n",
       "</style>\n",
       "<table border=\"1\" class=\"dataframe\">\n",
       "  <thead>\n",
       "    <tr style=\"text-align: right;\">\n",
       "      <th></th>\n",
       "      <th>source</th>\n",
       "      <th>net_generation</th>\n",
       "      <th>years</th>\n",
       "      <th>month</th>\n",
       "      <th>weekday</th>\n",
       "    </tr>\n",
       "    <tr>\n",
       "      <th>year</th>\n",
       "      <th></th>\n",
       "      <th></th>\n",
       "      <th></th>\n",
       "      <th></th>\n",
       "      <th></th>\n",
       "    </tr>\n",
       "  </thead>\n",
       "  <tbody>\n",
       "    <tr>\n",
       "      <th>2001-01-01</th>\n",
       "      <td>Fossil Fuels</td>\n",
       "      <td>35361</td>\n",
       "      <td>2001</td>\n",
       "      <td>1</td>\n",
       "      <td>0</td>\n",
       "    </tr>\n",
       "    <tr>\n",
       "      <th>2002-01-01</th>\n",
       "      <td>Fossil Fuels</td>\n",
       "      <td>35991</td>\n",
       "      <td>2002</td>\n",
       "      <td>1</td>\n",
       "      <td>1</td>\n",
       "    </tr>\n",
       "    <tr>\n",
       "      <th>2003-01-01</th>\n",
       "      <td>Fossil Fuels</td>\n",
       "      <td>36234</td>\n",
       "      <td>2003</td>\n",
       "      <td>1</td>\n",
       "      <td>2</td>\n",
       "    </tr>\n",
       "    <tr>\n",
       "      <th>2004-01-01</th>\n",
       "      <td>Fossil Fuels</td>\n",
       "      <td>36205</td>\n",
       "      <td>2004</td>\n",
       "      <td>1</td>\n",
       "      <td>3</td>\n",
       "    </tr>\n",
       "    <tr>\n",
       "      <th>2005-01-01</th>\n",
       "      <td>Fossil Fuels</td>\n",
       "      <td>36883</td>\n",
       "      <td>2005</td>\n",
       "      <td>1</td>\n",
       "      <td>5</td>\n",
       "    </tr>\n",
       "  </tbody>\n",
       "</table>\n",
       "</div>"
      ],
      "text/plain": [
       "                  source  net_generation  years  month  weekday\n",
       "year                                                           \n",
       "2001-01-01  Fossil Fuels           35361   2001      1        0\n",
       "2002-01-01  Fossil Fuels           35991   2002      1        1\n",
       "2003-01-01  Fossil Fuels           36234   2003      1        2\n",
       "2004-01-01  Fossil Fuels           36205   2004      1        3\n",
       "2005-01-01  Fossil Fuels           36883   2005      1        5"
      ]
     },
     "execution_count": 52,
     "metadata": {},
     "output_type": "execute_result"
    }
   ],
   "source": [
    "df4.head()"
   ]
  },
  {
   "cell_type": "markdown",
   "id": "579aa0be",
   "metadata": {},
   "source": [
    "**1).For each row, calculate the percentage of the year's total that energy source provided.**"
   ]
  },
  {
   "cell_type": "code",
   "execution_count": 53,
   "id": "ed453031",
   "metadata": {},
   "outputs": [],
   "source": [
    "df4 = df4.merge(df4.groupby(by='year').sum().rename(columns={'net_generation': 'yearly_total'}), on='year')\n",
    "df4['proportion'] = df4.net_generation / df4.yearly_total\n"
   ]
  },
  {
   "cell_type": "code",
   "execution_count": 54,
   "id": "c48bcde9",
   "metadata": {},
   "outputs": [
    {
     "data": {
      "text/html": [
       "<div>\n",
       "<style scoped>\n",
       "    .dataframe tbody tr th:only-of-type {\n",
       "        vertical-align: middle;\n",
       "    }\n",
       "\n",
       "    .dataframe tbody tr th {\n",
       "        vertical-align: top;\n",
       "    }\n",
       "\n",
       "    .dataframe thead th {\n",
       "        text-align: right;\n",
       "    }\n",
       "</style>\n",
       "<table border=\"1\" class=\"dataframe\">\n",
       "  <thead>\n",
       "    <tr style=\"text-align: right;\">\n",
       "      <th></th>\n",
       "      <th>source</th>\n",
       "      <th>net_generation</th>\n",
       "      <th>years_x</th>\n",
       "      <th>month_x</th>\n",
       "      <th>weekday_x</th>\n",
       "      <th>yearly_total</th>\n",
       "      <th>years_y</th>\n",
       "      <th>month_y</th>\n",
       "      <th>weekday_y</th>\n",
       "      <th>proportion</th>\n",
       "    </tr>\n",
       "    <tr>\n",
       "      <th>year</th>\n",
       "      <th></th>\n",
       "      <th></th>\n",
       "      <th></th>\n",
       "      <th></th>\n",
       "      <th></th>\n",
       "      <th></th>\n",
       "      <th></th>\n",
       "      <th></th>\n",
       "      <th></th>\n",
       "      <th></th>\n",
       "    </tr>\n",
       "  </thead>\n",
       "  <tbody>\n",
       "    <tr>\n",
       "      <th>2001-01-01</th>\n",
       "      <td>Fossil Fuels</td>\n",
       "      <td>35361</td>\n",
       "      <td>2001</td>\n",
       "      <td>1</td>\n",
       "      <td>0</td>\n",
       "      <td>40651</td>\n",
       "      <td>6003</td>\n",
       "      <td>3</td>\n",
       "      <td>0</td>\n",
       "      <td>0.869868</td>\n",
       "    </tr>\n",
       "    <tr>\n",
       "      <th>2001-01-01</th>\n",
       "      <td>Nuclear Energy</td>\n",
       "      <td>3853</td>\n",
       "      <td>2001</td>\n",
       "      <td>1</td>\n",
       "      <td>0</td>\n",
       "      <td>40651</td>\n",
       "      <td>6003</td>\n",
       "      <td>3</td>\n",
       "      <td>0</td>\n",
       "      <td>0.094782</td>\n",
       "    </tr>\n",
       "    <tr>\n",
       "      <th>2001-01-01</th>\n",
       "      <td>Renewables</td>\n",
       "      <td>1437</td>\n",
       "      <td>2001</td>\n",
       "      <td>1</td>\n",
       "      <td>0</td>\n",
       "      <td>40651</td>\n",
       "      <td>6003</td>\n",
       "      <td>3</td>\n",
       "      <td>0</td>\n",
       "      <td>0.035350</td>\n",
       "    </tr>\n",
       "    <tr>\n",
       "      <th>2002-01-01</th>\n",
       "      <td>Fossil Fuels</td>\n",
       "      <td>35991</td>\n",
       "      <td>2002</td>\n",
       "      <td>1</td>\n",
       "      <td>1</td>\n",
       "      <td>42528</td>\n",
       "      <td>6006</td>\n",
       "      <td>3</td>\n",
       "      <td>3</td>\n",
       "      <td>0.846290</td>\n",
       "    </tr>\n",
       "    <tr>\n",
       "      <th>2002-01-01</th>\n",
       "      <td>Nuclear Energy</td>\n",
       "      <td>4574</td>\n",
       "      <td>2002</td>\n",
       "      <td>1</td>\n",
       "      <td>1</td>\n",
       "      <td>42528</td>\n",
       "      <td>6006</td>\n",
       "      <td>3</td>\n",
       "      <td>3</td>\n",
       "      <td>0.107553</td>\n",
       "    </tr>\n",
       "  </tbody>\n",
       "</table>\n",
       "</div>"
      ],
      "text/plain": [
       "                    source  net_generation  years_x  month_x  weekday_x  \\\n",
       "year                                                                      \n",
       "2001-01-01    Fossil Fuels           35361     2001        1          0   \n",
       "2001-01-01  Nuclear Energy            3853     2001        1          0   \n",
       "2001-01-01      Renewables            1437     2001        1          0   \n",
       "2002-01-01    Fossil Fuels           35991     2002        1          1   \n",
       "2002-01-01  Nuclear Energy            4574     2002        1          1   \n",
       "\n",
       "            yearly_total  years_y  month_y  weekday_y  proportion  \n",
       "year                                                               \n",
       "2001-01-01         40651     6003        3          0    0.869868  \n",
       "2001-01-01         40651     6003        3          0    0.094782  \n",
       "2001-01-01         40651     6003        3          0    0.035350  \n",
       "2002-01-01         42528     6006        3          3    0.846290  \n",
       "2002-01-01         42528     6006        3          3    0.107553  "
      ]
     },
     "execution_count": 54,
     "metadata": {},
     "output_type": "execute_result"
    }
   ],
   "source": [
    "df4.head()"
   ]
  },
  {
   "cell_type": "markdown",
   "id": "508bee24",
   "metadata": {},
   "source": [
    "**2).Lineplot of generation over time, color by source**"
   ]
  },
  {
   "cell_type": "code",
   "execution_count": 55,
   "id": "25f0ac62",
   "metadata": {},
   "outputs": [
    {
     "data": {
      "image/png": "[encoded data removed]",
      "text/plain": [
       "<Figure size 432x288 with 1 Axes>"
      ]
     },
     "metadata": {
      "needs_background": "light"
     },
     "output_type": "display_data"
    }
   ],
   "source": [
    "df4.groupby(by='source').net_generation.plot()\n",
    "plt.legend(loc='best')\n",
    "plt.show()"
   ]
  },
  {
   "cell_type": "markdown",
   "id": "62aacbb8",
   "metadata": {},
   "source": [
    "**3).Display the data as table where years are columns, and energy source is rows (Hint: df.pivot_table)**\n",
    "\n"
   ]
  },
  {
   "cell_type": "code",
   "execution_count": 56,
   "id": "0a734190",
   "metadata": {},
   "outputs": [
    {
     "data": {
      "text/html": [
       "<div>\n",
       "<style scoped>\n",
       "    .dataframe tbody tr th:only-of-type {\n",
       "        vertical-align: middle;\n",
       "    }\n",
       "\n",
       "    .dataframe tbody tr th {\n",
       "        vertical-align: top;\n",
       "    }\n",
       "\n",
       "    .dataframe thead tr th {\n",
       "        text-align: left;\n",
       "    }\n",
       "\n",
       "    .dataframe thead tr:last-of-type th {\n",
       "        text-align: right;\n",
       "    }\n",
       "</style>\n",
       "<table border=\"1\" class=\"dataframe\">\n",
       "  <thead>\n",
       "    <tr>\n",
       "      <th></th>\n",
       "      <th colspan=\"10\" halign=\"left\">month_x</th>\n",
       "      <th>...</th>\n",
       "      <th colspan=\"10\" halign=\"left\">years_y</th>\n",
       "    </tr>\n",
       "    <tr>\n",
       "      <th>year</th>\n",
       "      <th>2001-01-01</th>\n",
       "      <th>2002-01-01</th>\n",
       "      <th>2003-01-01</th>\n",
       "      <th>2004-01-01</th>\n",
       "      <th>2005-01-01</th>\n",
       "      <th>2006-01-01</th>\n",
       "      <th>2007-01-01</th>\n",
       "      <th>2008-01-01</th>\n",
       "      <th>2009-01-01</th>\n",
       "      <th>2010-01-01</th>\n",
       "      <th>...</th>\n",
       "      <th>2008-01-01</th>\n",
       "      <th>2009-01-01</th>\n",
       "      <th>2010-01-01</th>\n",
       "      <th>2011-01-01</th>\n",
       "      <th>2012-01-01</th>\n",
       "      <th>2013-01-01</th>\n",
       "      <th>2014-01-01</th>\n",
       "      <th>2015-01-01</th>\n",
       "      <th>2016-01-01</th>\n",
       "      <th>2017-01-01</th>\n",
       "    </tr>\n",
       "    <tr>\n",
       "      <th>source</th>\n",
       "      <th></th>\n",
       "      <th></th>\n",
       "      <th></th>\n",
       "      <th></th>\n",
       "      <th></th>\n",
       "      <th></th>\n",
       "      <th></th>\n",
       "      <th></th>\n",
       "      <th></th>\n",
       "      <th></th>\n",
       "      <th></th>\n",
       "      <th></th>\n",
       "      <th></th>\n",
       "      <th></th>\n",
       "      <th></th>\n",
       "      <th></th>\n",
       "      <th></th>\n",
       "      <th></th>\n",
       "      <th></th>\n",
       "      <th></th>\n",
       "      <th></th>\n",
       "    </tr>\n",
       "  </thead>\n",
       "  <tbody>\n",
       "    <tr>\n",
       "      <th>Fossil Fuels</th>\n",
       "      <td>1</td>\n",
       "      <td>1</td>\n",
       "      <td>1</td>\n",
       "      <td>1</td>\n",
       "      <td>1</td>\n",
       "      <td>1</td>\n",
       "      <td>1</td>\n",
       "      <td>1</td>\n",
       "      <td>1</td>\n",
       "      <td>1</td>\n",
       "      <td>...</td>\n",
       "      <td>6024</td>\n",
       "      <td>6027</td>\n",
       "      <td>6030</td>\n",
       "      <td>6033</td>\n",
       "      <td>6036</td>\n",
       "      <td>6039</td>\n",
       "      <td>6042</td>\n",
       "      <td>6045</td>\n",
       "      <td>6048</td>\n",
       "      <td>6051</td>\n",
       "    </tr>\n",
       "    <tr>\n",
       "      <th>Nuclear Energy</th>\n",
       "      <td>1</td>\n",
       "      <td>1</td>\n",
       "      <td>1</td>\n",
       "      <td>1</td>\n",
       "      <td>1</td>\n",
       "      <td>1</td>\n",
       "      <td>1</td>\n",
       "      <td>1</td>\n",
       "      <td>1</td>\n",
       "      <td>1</td>\n",
       "      <td>...</td>\n",
       "      <td>6024</td>\n",
       "      <td>6027</td>\n",
       "      <td>6030</td>\n",
       "      <td>6033</td>\n",
       "      <td>6036</td>\n",
       "      <td>6039</td>\n",
       "      <td>6042</td>\n",
       "      <td>6045</td>\n",
       "      <td>6048</td>\n",
       "      <td>6051</td>\n",
       "    </tr>\n",
       "    <tr>\n",
       "      <th>Renewables</th>\n",
       "      <td>1</td>\n",
       "      <td>1</td>\n",
       "      <td>1</td>\n",
       "      <td>1</td>\n",
       "      <td>1</td>\n",
       "      <td>1</td>\n",
       "      <td>1</td>\n",
       "      <td>1</td>\n",
       "      <td>1</td>\n",
       "      <td>1</td>\n",
       "      <td>...</td>\n",
       "      <td>6024</td>\n",
       "      <td>6027</td>\n",
       "      <td>6030</td>\n",
       "      <td>6033</td>\n",
       "      <td>6036</td>\n",
       "      <td>6039</td>\n",
       "      <td>6042</td>\n",
       "      <td>6045</td>\n",
       "      <td>6048</td>\n",
       "      <td>6051</td>\n",
       "    </tr>\n",
       "  </tbody>\n",
       "</table>\n",
       "<p>3 rows × 119 columns</p>\n",
       "</div>"
      ],
      "text/plain": [
       "                  month_x                                              \\\n",
       "year           2001-01-01 2002-01-01 2003-01-01 2004-01-01 2005-01-01   \n",
       "source                                                                  \n",
       "Fossil Fuels            1          1          1          1          1   \n",
       "Nuclear Energy          1          1          1          1          1   \n",
       "Renewables              1          1          1          1          1   \n",
       "\n",
       "                                                                       ...  \\\n",
       "year           2006-01-01 2007-01-01 2008-01-01 2009-01-01 2010-01-01  ...   \n",
       "source                                                                 ...   \n",
       "Fossil Fuels            1          1          1          1          1  ...   \n",
       "Nuclear Energy          1          1          1          1          1  ...   \n",
       "Renewables              1          1          1          1          1  ...   \n",
       "\n",
       "                  years_y                                              \\\n",
       "year           2008-01-01 2009-01-01 2010-01-01 2011-01-01 2012-01-01   \n",
       "source                                                                  \n",
       "Fossil Fuels         6024       6027       6030       6033       6036   \n",
       "Nuclear Energy       6024       6027       6030       6033       6036   \n",
       "Renewables           6024       6027       6030       6033       6036   \n",
       "\n",
       "                                                                       \n",
       "year           2013-01-01 2014-01-01 2015-01-01 2016-01-01 2017-01-01  \n",
       "source                                                                 \n",
       "Fossil Fuels         6039       6042       6045       6048       6051  \n",
       "Nuclear Energy       6039       6042       6045       6048       6051  \n",
       "Renewables           6039       6042       6045       6048       6051  \n",
       "\n",
       "[3 rows x 119 columns]"
      ]
     },
     "execution_count": 56,
     "metadata": {},
     "output_type": "execute_result"
    }
   ],
   "source": [
    "df4.drop(columns=['yearly_total', 'proportion']).pivot_table(index='source', columns='year')\n"
   ]
  },
  {
   "cell_type": "markdown",
   "id": "e339876f",
   "metadata": {},
   "source": [
    "**4).Make a line plot that shows the amount of energy generated over time. Each source should be a separate line?**\n",
    "\n"
   ]
  },
  {
   "cell_type": "code",
   "execution_count": 57,
   "id": "3c7a0865",
   "metadata": {},
   "outputs": [
    {
     "data": {
      "image/png": "[encoded data removed]",
      "text/plain": [
       "<Figure size 432x288 with 1 Axes>"
      ]
     },
     "metadata": {
      "needs_background": "light"
     },
     "output_type": "display_data"
    }
   ],
   "source": [
    "df4.groupby(by='source').proportion.plot()\n",
    "plt.legend(loc='best')\n",
    "plt.show()"
   ]
  },
  {
   "cell_type": "markdown",
   "id": "ed3fb238",
   "metadata": {},
   "source": [
    "**5).Is the total generation increasing over time?**\n",
    "\n"
   ]
  },
  {
   "cell_type": "code",
   "execution_count": 58,
   "id": "cc91e62e",
   "metadata": {},
   "outputs": [
    {
     "data": {
      "image/png": "[encoded data removed]",
      "text/plain": [
       "<Figure size 432x288 with 1 Axes>"
      ]
     },
     "metadata": {
      "needs_background": "light"
     },
     "output_type": "display_data"
    }
   ],
   "source": [
    "df4.groupby(by='year').proportion.plot()\n",
    "plt.show()"
   ]
  },
  {
   "cell_type": "markdown",
   "id": "4e55395d",
   "metadata": {},
   "source": [
    "**5a).How would you control for increasing consumption over time when considering how much energy is coming from each source?**\n",
    "\n"
   ]
  },
  {
   "cell_type": "code",
   "execution_count": null,
   "id": "a89ce5f8",
   "metadata": {},
   "outputs": [],
   "source": []
  },
  {
   "cell_type": "markdown",
   "id": "7bd5352e",
   "metadata": {},
   "source": [
    "**5b).express each number as a % of the year's total**\n",
    "\n"
   ]
  },
  {
   "cell_type": "code",
   "execution_count": null,
   "id": "e905ad5d",
   "metadata": {},
   "outputs": [],
   "source": []
  },
  {
   "cell_type": "code",
   "execution_count": null,
   "id": "9511184f",
   "metadata": {},
   "outputs": [],
   "source": []
  }
 ],
 "metadata": {
  "kernelspec": {
   "display_name": "Python 3 (ipykernel)",
   "language": "python",
   "name": "python3"
  },
  "language_info": {
   "codemirror_mode": {
    "name": "ipython",
    "version": 3
   },
   "file_extension": ".py",
   "mimetype": "text/x-python",
   "name": "python",
   "nbconvert_exporter": "python",
   "pygments_lexer": "ipython3",
   "version": "3.9.7"
  }
 },
 "nbformat": 4,
 "nbformat_minor": 5
}
