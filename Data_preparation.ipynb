{
 "cells": [
  {
   "cell_type": "code",
   "execution_count": 1,
   "id": "c3682331",
   "metadata": {},
   "outputs": [],
   "source": [
    "import pandas as pd\n",
    "import numpy as np\n",
    "import seaborn as sns\n",
    "import matplotlib.pyplot as plt\n",
    "\n",
    "import acquire\n",
    "import prepare"
   ]
  },
  {
   "cell_type": "markdown",
   "id": "6e654616",
   "metadata": {},
   "source": [
    "# Using your store items data:"
   ]
  },
  {
   "cell_type": "code",
   "execution_count": 2,
   "id": "9b77d292",
   "metadata": {},
   "outputs": [
    {
     "name": "stdout",
     "output_type": "stream",
     "text": [
      "Reading from local CSV...\n"
     ]
    }
   ],
   "source": [
    "items = acquire.items_data()\n"
   ]
  },
  {
   "cell_type": "code",
   "execution_count": 3,
   "id": "712c7867",
   "metadata": {},
   "outputs": [
    {
     "name": "stdout",
     "output_type": "stream",
     "text": [
      "Reading from local CSV...\n"
     ]
    }
   ],
   "source": [
    "stores = acquire.stores_data()\n"
   ]
  },
  {
   "cell_type": "code",
   "execution_count": 4,
   "id": "0b2212ee",
   "metadata": {},
   "outputs": [
    {
     "name": "stdout",
     "output_type": "stream",
     "text": [
      "Reading from local CSV...\n"
     ]
    }
   ],
   "source": [
    "sales = acquire.sales_data()\n"
   ]
  },
  {
   "cell_type": "code",
   "execution_count": 6,
   "id": "d2561e06",
   "metadata": {},
   "outputs": [],
   "source": [
    "df = acquire.combine_store_data(sales, items, stores)\n"
   ]
  },
  {
   "cell_type": "code",
   "execution_count": 7,
   "id": "40aa3d25",
   "metadata": {},
   "outputs": [
    {
     "data": {
      "text/html": [
       "<div>\n",
       "<style scoped>\n",
       "    .dataframe tbody tr th:only-of-type {\n",
       "        vertical-align: middle;\n",
       "    }\n",
       "\n",
       "    .dataframe tbody tr th {\n",
       "        vertical-align: top;\n",
       "    }\n",
       "\n",
       "    .dataframe thead th {\n",
       "        text-align: right;\n",
       "    }\n",
       "</style>\n",
       "<table border=\"1\" class=\"dataframe\">\n",
       "  <thead>\n",
       "    <tr style=\"text-align: right;\">\n",
       "      <th></th>\n",
       "      <th>item_brand</th>\n",
       "      <th>item_id</th>\n",
       "      <th>item_name</th>\n",
       "      <th>item_price</th>\n",
       "      <th>item_upc12</th>\n",
       "      <th>item_upc14</th>\n",
       "      <th>sale_amount</th>\n",
       "      <th>sale_date</th>\n",
       "      <th>sale_id</th>\n",
       "      <th>store_id</th>\n",
       "      <th>store_address</th>\n",
       "      <th>store_city</th>\n",
       "      <th>store_state</th>\n",
       "      <th>store_zipcode</th>\n",
       "    </tr>\n",
       "  </thead>\n",
       "  <tbody>\n",
       "    <tr>\n",
       "      <th>0</th>\n",
       "      <td>Riceland</td>\n",
       "      <td>1</td>\n",
       "      <td>Riceland American Jazmine Rice</td>\n",
       "      <td>0.84</td>\n",
       "      <td>35200264013</td>\n",
       "      <td>35200264013</td>\n",
       "      <td>13.0</td>\n",
       "      <td>Tue, 01 Jan 2013 00:00:00 GMT</td>\n",
       "      <td>1</td>\n",
       "      <td>1</td>\n",
       "      <td>12125 Alamo Ranch Pkwy</td>\n",
       "      <td>San Antonio</td>\n",
       "      <td>TX</td>\n",
       "      <td>78253</td>\n",
       "    </tr>\n",
       "    <tr>\n",
       "      <th>1</th>\n",
       "      <td>Riceland</td>\n",
       "      <td>1</td>\n",
       "      <td>Riceland American Jazmine Rice</td>\n",
       "      <td>0.84</td>\n",
       "      <td>35200264013</td>\n",
       "      <td>35200264013</td>\n",
       "      <td>11.0</td>\n",
       "      <td>Wed, 02 Jan 2013 00:00:00 GMT</td>\n",
       "      <td>2</td>\n",
       "      <td>1</td>\n",
       "      <td>12125 Alamo Ranch Pkwy</td>\n",
       "      <td>San Antonio</td>\n",
       "      <td>TX</td>\n",
       "      <td>78253</td>\n",
       "    </tr>\n",
       "    <tr>\n",
       "      <th>2</th>\n",
       "      <td>Riceland</td>\n",
       "      <td>1</td>\n",
       "      <td>Riceland American Jazmine Rice</td>\n",
       "      <td>0.84</td>\n",
       "      <td>35200264013</td>\n",
       "      <td>35200264013</td>\n",
       "      <td>14.0</td>\n",
       "      <td>Thu, 03 Jan 2013 00:00:00 GMT</td>\n",
       "      <td>3</td>\n",
       "      <td>1</td>\n",
       "      <td>12125 Alamo Ranch Pkwy</td>\n",
       "      <td>San Antonio</td>\n",
       "      <td>TX</td>\n",
       "      <td>78253</td>\n",
       "    </tr>\n",
       "    <tr>\n",
       "      <th>3</th>\n",
       "      <td>Riceland</td>\n",
       "      <td>1</td>\n",
       "      <td>Riceland American Jazmine Rice</td>\n",
       "      <td>0.84</td>\n",
       "      <td>35200264013</td>\n",
       "      <td>35200264013</td>\n",
       "      <td>13.0</td>\n",
       "      <td>Fri, 04 Jan 2013 00:00:00 GMT</td>\n",
       "      <td>4</td>\n",
       "      <td>1</td>\n",
       "      <td>12125 Alamo Ranch Pkwy</td>\n",
       "      <td>San Antonio</td>\n",
       "      <td>TX</td>\n",
       "      <td>78253</td>\n",
       "    </tr>\n",
       "    <tr>\n",
       "      <th>4</th>\n",
       "      <td>Riceland</td>\n",
       "      <td>1</td>\n",
       "      <td>Riceland American Jazmine Rice</td>\n",
       "      <td>0.84</td>\n",
       "      <td>35200264013</td>\n",
       "      <td>35200264013</td>\n",
       "      <td>10.0</td>\n",
       "      <td>Sat, 05 Jan 2013 00:00:00 GMT</td>\n",
       "      <td>5</td>\n",
       "      <td>1</td>\n",
       "      <td>12125 Alamo Ranch Pkwy</td>\n",
       "      <td>San Antonio</td>\n",
       "      <td>TX</td>\n",
       "      <td>78253</td>\n",
       "    </tr>\n",
       "  </tbody>\n",
       "</table>\n",
       "</div>"
      ],
      "text/plain": [
       "  item_brand  item_id                       item_name  item_price  \\\n",
       "0   Riceland        1  Riceland American Jazmine Rice        0.84   \n",
       "1   Riceland        1  Riceland American Jazmine Rice        0.84   \n",
       "2   Riceland        1  Riceland American Jazmine Rice        0.84   \n",
       "3   Riceland        1  Riceland American Jazmine Rice        0.84   \n",
       "4   Riceland        1  Riceland American Jazmine Rice        0.84   \n",
       "\n",
       "    item_upc12   item_upc14  sale_amount                      sale_date  \\\n",
       "0  35200264013  35200264013         13.0  Tue, 01 Jan 2013 00:00:00 GMT   \n",
       "1  35200264013  35200264013         11.0  Wed, 02 Jan 2013 00:00:00 GMT   \n",
       "2  35200264013  35200264013         14.0  Thu, 03 Jan 2013 00:00:00 GMT   \n",
       "3  35200264013  35200264013         13.0  Fri, 04 Jan 2013 00:00:00 GMT   \n",
       "4  35200264013  35200264013         10.0  Sat, 05 Jan 2013 00:00:00 GMT   \n",
       "\n",
       "   sale_id  store_id           store_address   store_city store_state  \\\n",
       "0        1         1  12125 Alamo Ranch Pkwy  San Antonio          TX   \n",
       "1        2         1  12125 Alamo Ranch Pkwy  San Antonio          TX   \n",
       "2        3         1  12125 Alamo Ranch Pkwy  San Antonio          TX   \n",
       "3        4         1  12125 Alamo Ranch Pkwy  San Antonio          TX   \n",
       "4        5         1  12125 Alamo Ranch Pkwy  San Antonio          TX   \n",
       "\n",
       "   store_zipcode  \n",
       "0          78253  \n",
       "1          78253  \n",
       "2          78253  \n",
       "3          78253  \n",
       "4          78253  "
      ]
     },
     "execution_count": 7,
     "metadata": {},
     "output_type": "execute_result"
    }
   ],
   "source": [
    "df.head()"
   ]
  },
  {
   "cell_type": "markdown",
   "id": "204482c3",
   "metadata": {},
   "source": [
    "### 1).Convert date column to datetime format.\n"
   ]
  },
  {
   "cell_type": "code",
   "execution_count": 8,
   "id": "d2f4b09d",
   "metadata": {},
   "outputs": [
    {
     "data": {
      "text/plain": [
       "dtype('O')"
      ]
     },
     "execution_count": 8,
     "metadata": {},
     "output_type": "execute_result"
    }
   ],
   "source": [
    "df.sale_date.dtype\n"
   ]
  },
  {
   "cell_type": "code",
   "execution_count": 9,
   "id": "79877473",
   "metadata": {},
   "outputs": [
    {
     "data": {
      "text/plain": [
       "str"
      ]
     },
     "execution_count": 9,
     "metadata": {},
     "output_type": "execute_result"
    }
   ],
   "source": [
    "type(df.sale_date[0])\n"
   ]
  },
  {
   "cell_type": "code",
   "execution_count": 10,
   "id": "4c91c2a3",
   "metadata": {},
   "outputs": [
    {
     "data": {
      "text/plain": [
       "1.0"
      ]
     },
     "execution_count": 10,
     "metadata": {},
     "output_type": "execute_result"
    }
   ],
   "source": [
    "df.sale_date.str.endswith(' 00:00:00 GMT').mean()\n"
   ]
  },
  {
   "cell_type": "code",
   "execution_count": 11,
   "id": "31f1af19",
   "metadata": {},
   "outputs": [
    {
     "data": {
      "text/plain": [
       "0         Tue, 01 Jan 2013 00:00:00 GMT\n",
       "1         Wed, 02 Jan 2013 00:00:00 GMT\n",
       "2         Thu, 03 Jan 2013 00:00:00 GMT\n",
       "3         Fri, 04 Jan 2013 00:00:00 GMT\n",
       "4         Sat, 05 Jan 2013 00:00:00 GMT\n",
       "                      ...              \n",
       "912995    Wed, 27 Dec 2017 00:00:00 GMT\n",
       "912996    Thu, 28 Dec 2017 00:00:00 GMT\n",
       "912997    Fri, 29 Dec 2017 00:00:00 GMT\n",
       "912998    Sat, 30 Dec 2017 00:00:00 GMT\n",
       "912999    Sun, 31 Dec 2017 00:00:00 GMT\n",
       "Name: sale_date, Length: 913000, dtype: object"
      ]
     },
     "execution_count": 11,
     "metadata": {},
     "output_type": "execute_result"
    }
   ],
   "source": [
    "df.sale_date"
   ]
  },
  {
   "cell_type": "code",
   "execution_count": 12,
   "id": "43f1d24f",
   "metadata": {},
   "outputs": [],
   "source": [
    "df['sale_date'] = df.sale_date.str[:-13]\n"
   ]
  },
  {
   "cell_type": "code",
   "execution_count": 13,
   "id": "f72d0e9c",
   "metadata": {},
   "outputs": [],
   "source": [
    "df['sale_date'] = pd.to_datetime(df.sale_date, format='%a, %d %b %Y')\n"
   ]
  },
  {
   "cell_type": "markdown",
   "id": "5cabb591",
   "metadata": {},
   "source": [
    "### 2). Plot the distribution of sale_amount and item_price\n"
   ]
  },
  {
   "cell_type": "code",
   "execution_count": 14,
   "id": "7f404ca5",
   "metadata": {},
   "outputs": [
    {
     "data": {
      "image/png": "[encoded data removed]",
      "text/plain": [
       "<Figure size 432x288 with 1 Axes>"
      ]
     },
     "metadata": {
      "needs_background": "light"
     },
     "output_type": "display_data"
    }
   ],
   "source": [
    "sns.histplot(df.sale_amount)\n",
    "plt.show()"
   ]
  },
  {
   "cell_type": "code",
   "execution_count": 15,
   "id": "d58d8bf9",
   "metadata": {},
   "outputs": [
    {
     "data": {
      "image/png": "[encoded data removed]",
      "text/plain": [
       "<Figure size 432x288 with 1 Axes>"
      ]
     },
     "metadata": {
      "needs_background": "light"
     },
     "output_type": "display_data"
    }
   ],
   "source": [
    "sns.histplot(df.item_price)\n",
    "plt.show()"
   ]
  },
  {
   "cell_type": "markdown",
   "id": "8c24074d",
   "metadata": {},
   "source": [
    "### 3).Set the index to be the datetime variable.\n"
   ]
  },
  {
   "cell_type": "code",
   "execution_count": 16,
   "id": "d490c18f",
   "metadata": {},
   "outputs": [],
   "source": [
    "df = df.set_index('sale_date').sort_index()\n"
   ]
  },
  {
   "cell_type": "code",
   "execution_count": 17,
   "id": "9012a504",
   "metadata": {},
   "outputs": [
    {
     "data": {
      "text/html": [
       "<div>\n",
       "<style scoped>\n",
       "    .dataframe tbody tr th:only-of-type {\n",
       "        vertical-align: middle;\n",
       "    }\n",
       "\n",
       "    .dataframe tbody tr th {\n",
       "        vertical-align: top;\n",
       "    }\n",
       "\n",
       "    .dataframe thead th {\n",
       "        text-align: right;\n",
       "    }\n",
       "</style>\n",
       "<table border=\"1\" class=\"dataframe\">\n",
       "  <thead>\n",
       "    <tr style=\"text-align: right;\">\n",
       "      <th></th>\n",
       "      <th>item_brand</th>\n",
       "      <th>item_id</th>\n",
       "      <th>item_name</th>\n",
       "      <th>item_price</th>\n",
       "      <th>item_upc12</th>\n",
       "      <th>item_upc14</th>\n",
       "      <th>sale_amount</th>\n",
       "      <th>sale_id</th>\n",
       "      <th>store_id</th>\n",
       "      <th>store_address</th>\n",
       "      <th>store_city</th>\n",
       "      <th>store_state</th>\n",
       "      <th>store_zipcode</th>\n",
       "    </tr>\n",
       "    <tr>\n",
       "      <th>sale_date</th>\n",
       "      <th></th>\n",
       "      <th></th>\n",
       "      <th></th>\n",
       "      <th></th>\n",
       "      <th></th>\n",
       "      <th></th>\n",
       "      <th></th>\n",
       "      <th></th>\n",
       "      <th></th>\n",
       "      <th></th>\n",
       "      <th></th>\n",
       "      <th></th>\n",
       "      <th></th>\n",
       "    </tr>\n",
       "  </thead>\n",
       "  <tbody>\n",
       "    <tr>\n",
       "      <th>2013-01-01</th>\n",
       "      <td>Riceland</td>\n",
       "      <td>1</td>\n",
       "      <td>Riceland American Jazmine Rice</td>\n",
       "      <td>0.84</td>\n",
       "      <td>35200264013</td>\n",
       "      <td>35200264013</td>\n",
       "      <td>13.0</td>\n",
       "      <td>1</td>\n",
       "      <td>1</td>\n",
       "      <td>12125 Alamo Ranch Pkwy</td>\n",
       "      <td>San Antonio</td>\n",
       "      <td>TX</td>\n",
       "      <td>78253</td>\n",
       "    </tr>\n",
       "    <tr>\n",
       "      <th>2013-01-01</th>\n",
       "      <td>Mueller</td>\n",
       "      <td>12</td>\n",
       "      <td>Mueller Sport Care Basic Support Level Medium ...</td>\n",
       "      <td>8.40</td>\n",
       "      <td>74676640211</td>\n",
       "      <td>74676640211</td>\n",
       "      <td>26.0</td>\n",
       "      <td>211817</td>\n",
       "      <td>7</td>\n",
       "      <td>12018 Perrin Beitel Rd</td>\n",
       "      <td>San Antonio</td>\n",
       "      <td>TX</td>\n",
       "      <td>78217</td>\n",
       "    </tr>\n",
       "  </tbody>\n",
       "</table>\n",
       "</div>"
      ],
      "text/plain": [
       "           item_brand  item_id  \\\n",
       "sale_date                        \n",
       "2013-01-01   Riceland        1   \n",
       "2013-01-01    Mueller       12   \n",
       "\n",
       "                                                    item_name  item_price  \\\n",
       "sale_date                                                                   \n",
       "2013-01-01                     Riceland American Jazmine Rice        0.84   \n",
       "2013-01-01  Mueller Sport Care Basic Support Level Medium ...        8.40   \n",
       "\n",
       "             item_upc12   item_upc14  sale_amount  sale_id  store_id  \\\n",
       "sale_date                                                              \n",
       "2013-01-01  35200264013  35200264013         13.0        1         1   \n",
       "2013-01-01  74676640211  74676640211         26.0   211817         7   \n",
       "\n",
       "                     store_address   store_city store_state  store_zipcode  \n",
       "sale_date                                                                   \n",
       "2013-01-01  12125 Alamo Ranch Pkwy  San Antonio          TX          78253  \n",
       "2013-01-01  12018 Perrin Beitel Rd  San Antonio          TX          78217  "
      ]
     },
     "execution_count": 17,
     "metadata": {},
     "output_type": "execute_result"
    }
   ],
   "source": [
    "df.head(2)"
   ]
  },
  {
   "cell_type": "markdown",
   "id": "b11cc0a8",
   "metadata": {},
   "source": [
    "### 4). Add a 'month' and 'day of week' column to your dataframe.\n"
   ]
  },
  {
   "cell_type": "code",
   "execution_count": 18,
   "id": "419a5002",
   "metadata": {},
   "outputs": [],
   "source": [
    "df['month'] = df.index.strftime('%m-%b')\n",
    "df['weekday'] = df.index.strftime('%w-%a')"
   ]
  },
  {
   "cell_type": "markdown",
   "id": "3115dacc",
   "metadata": {},
   "source": [
    "### 5). Add a column to your dataframe, sales_total, which is a derived from sale_amount (total items) and item_price."
   ]
  },
  {
   "cell_type": "code",
   "execution_count": 19,
   "id": "c74b5ab8",
   "metadata": {},
   "outputs": [],
   "source": [
    " df['sales_total'] = df.sale_amount * df.item_price\n"
   ]
  },
  {
   "cell_type": "code",
   "execution_count": 20,
   "id": "2f608c83",
   "metadata": {},
   "outputs": [
    {
     "data": {
      "text/html": [
       "<div>\n",
       "<style scoped>\n",
       "    .dataframe tbody tr th:only-of-type {\n",
       "        vertical-align: middle;\n",
       "    }\n",
       "\n",
       "    .dataframe tbody tr th {\n",
       "        vertical-align: top;\n",
       "    }\n",
       "\n",
       "    .dataframe thead th {\n",
       "        text-align: right;\n",
       "    }\n",
       "</style>\n",
       "<table border=\"1\" class=\"dataframe\">\n",
       "  <thead>\n",
       "    <tr style=\"text-align: right;\">\n",
       "      <th></th>\n",
       "      <th>item_brand</th>\n",
       "      <th>item_id</th>\n",
       "      <th>item_name</th>\n",
       "      <th>item_price</th>\n",
       "      <th>item_upc12</th>\n",
       "      <th>item_upc14</th>\n",
       "      <th>sale_amount</th>\n",
       "      <th>sale_id</th>\n",
       "      <th>store_id</th>\n",
       "      <th>store_address</th>\n",
       "      <th>store_city</th>\n",
       "      <th>store_state</th>\n",
       "      <th>store_zipcode</th>\n",
       "      <th>month</th>\n",
       "      <th>weekday</th>\n",
       "      <th>sales_total</th>\n",
       "    </tr>\n",
       "    <tr>\n",
       "      <th>sale_date</th>\n",
       "      <th></th>\n",
       "      <th></th>\n",
       "      <th></th>\n",
       "      <th></th>\n",
       "      <th></th>\n",
       "      <th></th>\n",
       "      <th></th>\n",
       "      <th></th>\n",
       "      <th></th>\n",
       "      <th></th>\n",
       "      <th></th>\n",
       "      <th></th>\n",
       "      <th></th>\n",
       "      <th></th>\n",
       "      <th></th>\n",
       "      <th></th>\n",
       "    </tr>\n",
       "  </thead>\n",
       "  <tbody>\n",
       "    <tr>\n",
       "      <th>2013-01-01</th>\n",
       "      <td>Riceland</td>\n",
       "      <td>1</td>\n",
       "      <td>Riceland American Jazmine Rice</td>\n",
       "      <td>0.84</td>\n",
       "      <td>35200264013</td>\n",
       "      <td>35200264013</td>\n",
       "      <td>13.0</td>\n",
       "      <td>1</td>\n",
       "      <td>1</td>\n",
       "      <td>12125 Alamo Ranch Pkwy</td>\n",
       "      <td>San Antonio</td>\n",
       "      <td>TX</td>\n",
       "      <td>78253</td>\n",
       "      <td>01-Jan</td>\n",
       "      <td>2-Tue</td>\n",
       "      <td>10.92</td>\n",
       "    </tr>\n",
       "    <tr>\n",
       "      <th>2013-01-01</th>\n",
       "      <td>Mueller</td>\n",
       "      <td>12</td>\n",
       "      <td>Mueller Sport Care Basic Support Level Medium ...</td>\n",
       "      <td>8.40</td>\n",
       "      <td>74676640211</td>\n",
       "      <td>74676640211</td>\n",
       "      <td>26.0</td>\n",
       "      <td>211817</td>\n",
       "      <td>7</td>\n",
       "      <td>12018 Perrin Beitel Rd</td>\n",
       "      <td>San Antonio</td>\n",
       "      <td>TX</td>\n",
       "      <td>78217</td>\n",
       "      <td>01-Jan</td>\n",
       "      <td>2-Tue</td>\n",
       "      <td>218.40</td>\n",
       "    </tr>\n",
       "  </tbody>\n",
       "</table>\n",
       "</div>"
      ],
      "text/plain": [
       "           item_brand  item_id  \\\n",
       "sale_date                        \n",
       "2013-01-01   Riceland        1   \n",
       "2013-01-01    Mueller       12   \n",
       "\n",
       "                                                    item_name  item_price  \\\n",
       "sale_date                                                                   \n",
       "2013-01-01                     Riceland American Jazmine Rice        0.84   \n",
       "2013-01-01  Mueller Sport Care Basic Support Level Medium ...        8.40   \n",
       "\n",
       "             item_upc12   item_upc14  sale_amount  sale_id  store_id  \\\n",
       "sale_date                                                              \n",
       "2013-01-01  35200264013  35200264013         13.0        1         1   \n",
       "2013-01-01  74676640211  74676640211         26.0   211817         7   \n",
       "\n",
       "                     store_address   store_city store_state  store_zipcode  \\\n",
       "sale_date                                                                    \n",
       "2013-01-01  12125 Alamo Ranch Pkwy  San Antonio          TX          78253   \n",
       "2013-01-01  12018 Perrin Beitel Rd  San Antonio          TX          78217   \n",
       "\n",
       "             month weekday  sales_total  \n",
       "sale_date                                \n",
       "2013-01-01  01-Jan   2-Tue        10.92  \n",
       "2013-01-01  01-Jan   2-Tue       218.40  "
      ]
     },
     "execution_count": 20,
     "metadata": {},
     "output_type": "execute_result"
    }
   ],
   "source": [
    "df.head(2)"
   ]
  },
  {
   "cell_type": "markdown",
   "id": "6ce88bcb",
   "metadata": {},
   "source": [
    "### 6). Make sure all the work that you have done above is reproducible. That is, you should put the code above into separate functions and be able to re-run the functions and get the same results."
   ]
  },
  {
   "cell_type": "code",
   "execution_count": 21,
   "id": "ddb6e044",
   "metadata": {},
   "outputs": [],
   "source": [
    "def prep_store_data(df):\n",
    "    '''\n",
    "    Takes in the df of combined items, sales, and stores info.\n",
    "    - Converts index to datetime formatted sale date\n",
    "    - adds columns for month and day of the week\n",
    "    - adds a sales total column (sale_amount * item_price)\n",
    "    '''\n",
    "    # if no time of day information is stored (i.e. all times == 00:00:00)\n",
    "    if df.sale_date.str.endswith(' 00:00:00 GMT').mean() == 1:\n",
    "        # then we will truncate the sale_date string for faster processing to_datetime\n",
    "        df['sale_date'] = df.sale_date.str[:-13]\n",
    "        # convert the sale_date to a pandas datetime with format specifier\n",
    "        df['sale_date'] = pd.to_datetime(df.sale_date, format='%a, %d %b %Y')\n",
    "    else:\n",
    "        # convert the sale_date to pandas datetime\n",
    "        df['sale_date'] = pd.to_datetime(df.sale_date) \n",
    "    # set sale_date as the index\n",
    "    df = df.set_index('sale_date').sort_index()\n",
    "    # add month column\n",
    "    df['month'] = df.index.strftime('%m-%b')\n",
    "    # add weekday column\n",
    "    df['weekday'] = df.index.strftime('%w-%a')\n",
    "    # add sales_total column\n",
    "    df['sales_total'] = df.sale_amount * df.item_price\n",
    "    \n",
    "    return df"
   ]
  },
  {
   "cell_type": "code",
   "execution_count": 22,
   "id": "28ce0c64",
   "metadata": {},
   "outputs": [],
   "source": [
    "df = acquire.combine_store_data(sales, items, stores)\n"
   ]
  },
  {
   "cell_type": "code",
   "execution_count": 23,
   "id": "75c4cbae",
   "metadata": {},
   "outputs": [],
   "source": [
    "df = prepare.prep_store_data(df)\n"
   ]
  },
  {
   "cell_type": "code",
   "execution_count": 24,
   "id": "39432567",
   "metadata": {},
   "outputs": [
    {
     "data": {
      "text/html": [
       "<div>\n",
       "<style scoped>\n",
       "    .dataframe tbody tr th:only-of-type {\n",
       "        vertical-align: middle;\n",
       "    }\n",
       "\n",
       "    .dataframe tbody tr th {\n",
       "        vertical-align: top;\n",
       "    }\n",
       "\n",
       "    .dataframe thead th {\n",
       "        text-align: right;\n",
       "    }\n",
       "</style>\n",
       "<table border=\"1\" class=\"dataframe\">\n",
       "  <thead>\n",
       "    <tr style=\"text-align: right;\">\n",
       "      <th></th>\n",
       "      <th>item_id</th>\n",
       "      <th>item_price</th>\n",
       "      <th>item_upc12</th>\n",
       "      <th>item_upc14</th>\n",
       "      <th>items_sold</th>\n",
       "      <th>sale_id</th>\n",
       "      <th>store_id</th>\n",
       "      <th>store_zipcode</th>\n",
       "      <th>dollars_sold</th>\n",
       "    </tr>\n",
       "    <tr>\n",
       "      <th>sale_date</th>\n",
       "      <th></th>\n",
       "      <th></th>\n",
       "      <th></th>\n",
       "      <th></th>\n",
       "      <th></th>\n",
       "      <th></th>\n",
       "      <th></th>\n",
       "      <th></th>\n",
       "      <th></th>\n",
       "    </tr>\n",
       "  </thead>\n",
       "  <tbody>\n",
       "    <tr>\n",
       "      <th>2013-01-01</th>\n",
       "      <td>12750</td>\n",
       "      <td>2580.2</td>\n",
       "      <td>119234392245520</td>\n",
       "      <td>119234392245520</td>\n",
       "      <td>13696.0</td>\n",
       "      <td>227794000</td>\n",
       "      <td>2750</td>\n",
       "      <td>39112400</td>\n",
       "      <td>73844.01</td>\n",
       "    </tr>\n",
       "    <tr>\n",
       "      <th>2013-01-02</th>\n",
       "      <td>12750</td>\n",
       "      <td>2580.2</td>\n",
       "      <td>119234392245520</td>\n",
       "      <td>119234392245520</td>\n",
       "      <td>13678.0</td>\n",
       "      <td>227794500</td>\n",
       "      <td>2750</td>\n",
       "      <td>39112400</td>\n",
       "      <td>73570.58</td>\n",
       "    </tr>\n",
       "    <tr>\n",
       "      <th>2013-01-03</th>\n",
       "      <td>12750</td>\n",
       "      <td>2580.2</td>\n",
       "      <td>119234392245520</td>\n",
       "      <td>119234392245520</td>\n",
       "      <td>14488.0</td>\n",
       "      <td>227795000</td>\n",
       "      <td>2750</td>\n",
       "      <td>39112400</td>\n",
       "      <td>78169.48</td>\n",
       "    </tr>\n",
       "  </tbody>\n",
       "</table>\n",
       "</div>"
      ],
      "text/plain": [
       "            item_id  item_price       item_upc12       item_upc14  items_sold  \\\n",
       "sale_date                                                                       \n",
       "2013-01-01    12750      2580.2  119234392245520  119234392245520     13696.0   \n",
       "2013-01-02    12750      2580.2  119234392245520  119234392245520     13678.0   \n",
       "2013-01-03    12750      2580.2  119234392245520  119234392245520     14488.0   \n",
       "\n",
       "              sale_id  store_id  store_zipcode  dollars_sold  \n",
       "sale_date                                                     \n",
       "2013-01-01  227794000      2750       39112400      73844.01  \n",
       "2013-01-02  227794500      2750       39112400      73570.58  \n",
       "2013-01-03  227795000      2750       39112400      78169.48  "
      ]
     },
     "execution_count": 24,
     "metadata": {},
     "output_type": "execute_result"
    }
   ],
   "source": [
    "df.head(3)\n"
   ]
  },
  {
   "cell_type": "markdown",
   "id": "968b9e2d",
   "metadata": {},
   "source": [
    "# Using the OPS data acquired in the Acquire exercises opsd_germany_daily.csv, complete the following:"
   ]
  },
  {
   "cell_type": "code",
   "execution_count": 25,
   "id": "d02e5611",
   "metadata": {},
   "outputs": [
    {
     "name": "stdout",
     "output_type": "stream",
     "text": [
      "No local copy exists. Reading data from:  https://raw.githubusercontent.com/jenfly/opsd/master/opsd_germany_daily.csv ...\n",
      "Writing to local csv...\n"
     ]
    }
   ],
   "source": [
    "df = acquire.opsd_germany_data()\n"
   ]
  },
  {
   "cell_type": "code",
   "execution_count": 26,
   "id": "9fa5892b",
   "metadata": {},
   "outputs": [],
   "source": [
    "for col in df.columns:\n",
    "    df = df.rename(columns={col: col.lower().replace('+', '_')})"
   ]
  },
  {
   "cell_type": "markdown",
   "id": "2599f739",
   "metadata": {},
   "source": [
    "### 1). Convert the date column to datetime format\n"
   ]
  },
  {
   "cell_type": "code",
   "execution_count": 27,
   "id": "eddcd36f",
   "metadata": {},
   "outputs": [],
   "source": [
    "df['date'] = pd.to_datetime(df.date)\n"
   ]
  },
  {
   "cell_type": "markdown",
   "id": "4b2e4dc2",
   "metadata": {},
   "source": [
    "### 2). Plot the distribution of each of your variables\n"
   ]
  },
  {
   "cell_type": "code",
   "execution_count": 37,
   "id": "0571ba0c",
   "metadata": {},
   "outputs": [
    {
     "name": "stderr",
     "output_type": "stream",
     "text": [
      "No handles with labels found to put in legend.\n"
     ]
    },
    {
     "data": {
      "image/png": "[encoded data removed]",
      "text/plain": [
       "<Figure size 432x288 with 1 Axes>"
      ]
     },
     "metadata": {
      "needs_background": "light"
     },
     "output_type": "display_data"
    },
    {
     "name": "stderr",
     "output_type": "stream",
     "text": [
      "No handles with labels found to put in legend.\n"
     ]
    },
    {
     "data": {
      "image/png": "[encoded data removed]",
      "text/plain": [
       "<Figure size 432x288 with 1 Axes>"
      ]
     },
     "metadata": {
      "needs_background": "light"
     },
     "output_type": "display_data"
    },
    {
     "name": "stderr",
     "output_type": "stream",
     "text": [
      "No handles with labels found to put in legend.\n"
     ]
    },
    {
     "data": {
      "image/png": "[encoded data removed]",
      "text/plain": [
       "<Figure size 432x288 with 1 Axes>"
      ]
     },
     "metadata": {
      "needs_background": "light"
     },
     "output_type": "display_data"
    },
    {
     "name": "stderr",
     "output_type": "stream",
     "text": [
      "No handles with labels found to put in legend.\n"
     ]
    },
    {
     "data": {
      "image/png": "[encoded data removed]",
      "text/plain": [
       "<Figure size 432x288 with 1 Axes>"
      ]
     },
     "metadata": {
      "needs_background": "light"
     },
     "output_type": "display_data"
    },
    {
     "name": "stderr",
     "output_type": "stream",
     "text": [
      "No handles with labels found to put in legend.\n"
     ]
    },
    {
     "data": {
      "image/png": "[encoded data removed]",
      "text/plain": [
       "<Figure size 432x288 with 1 Axes>"
      ]
     },
     "metadata": {
      "needs_background": "light"
     },
     "output_type": "display_data"
    },
    {
     "name": "stderr",
     "output_type": "stream",
     "text": [
      "No handles with labels found to put in legend.\n"
     ]
    },
    {
     "data": {
      "image/png": "[encoded data removed]",
      "text/plain": [
       "<Figure size 432x288 with 1 Axes>"
      ]
     },
     "metadata": {
      "needs_background": "light"
     },
     "output_type": "display_data"
    }
   ],
   "source": [
    "for col in df.columns:\n",
    "    sns.histplot(df[col])\n",
    "    plt.show()"
   ]
  },
  {
   "cell_type": "markdown",
   "id": "152f6a3c",
   "metadata": {},
   "source": [
    "### 3). Set the index to be the datetime variable\n"
   ]
  },
  {
   "cell_type": "code",
   "execution_count": 30,
   "id": "e067ba7b",
   "metadata": {},
   "outputs": [],
   "source": [
    "df = df.set_index('date').sort_index()\n"
   ]
  },
  {
   "cell_type": "markdown",
   "id": "a395971a",
   "metadata": {},
   "source": [
    "### 4). Add a month and a year column to your dataframe\n"
   ]
  },
  {
   "cell_type": "code",
   "execution_count": 31,
   "id": "7c814976",
   "metadata": {},
   "outputs": [],
   "source": [
    "df['month'] = df.index.strftime('%m-%b')\n",
    "df['year'] = df.index.year"
   ]
  },
  {
   "cell_type": "markdown",
   "id": "e3239736",
   "metadata": {},
   "source": [
    "### 5). fill any missing values\n"
   ]
  },
  {
   "cell_type": "code",
   "execution_count": 32,
   "id": "a90ebb7c",
   "metadata": {},
   "outputs": [],
   "source": [
    "df['wind'] = df.wind.fillna(0)\n",
    "df['solar'] = df.solar.fillna(0)\n",
    "df['wind_solar'] = df.wind + df.solar"
   ]
  },
  {
   "cell_type": "markdown",
   "id": "af740db8",
   "metadata": {},
   "source": [
    "### 6). Make sure all the work that you have done above is reproducible. That is, you should put the code above into separate functions and be able to re-run the functions and get the same results."
   ]
  },
  {
   "cell_type": "code",
   "execution_count": 33,
   "id": "6b418aff",
   "metadata": {},
   "outputs": [],
   "source": [
    "def prep_opsd_germany_data(df):\n",
    "    # rename columns for convenience\n",
    "    for col in df.columns:\n",
    "        df = df.rename(columns={col: col.lower().replace('+', '_')})\n",
    "    # convert the date column to a datetime type\n",
    "    df['date'] = pd.to_datetime(df.date)\n",
    "    # set the index to the date column and sort\n",
    "    df = df.set_index('date').sort_index()\n",
    "    # add month and year columns\n",
    "    df['month'] = df.index.strftime('%m-%b')\n",
    "    df['year'] = df.index.year\n",
    "    # fill missing values\n",
    "    df['wind'] = df.wind.fillna(0)\n",
    "    df['solar'] = df.solar.fillna(0)\n",
    "    df['wind_solar'] = df.wind + df.solar\n",
    "    return df\n"
   ]
  },
  {
   "cell_type": "code",
   "execution_count": 34,
   "id": "09fe326e",
   "metadata": {},
   "outputs": [
    {
     "name": "stdout",
     "output_type": "stream",
     "text": [
      "Reading from local CSV...\n"
     ]
    }
   ],
   "source": [
    "df = acquire.opsd_germany_data()\n"
   ]
  },
  {
   "cell_type": "code",
   "execution_count": 35,
   "id": "d7b95d66",
   "metadata": {},
   "outputs": [],
   "source": [
    "df = prepare.prep_opsd_germany_data(df)\n"
   ]
  },
  {
   "cell_type": "code",
   "execution_count": 36,
   "id": "ae148adf",
   "metadata": {},
   "outputs": [
    {
     "data": {
      "text/html": [
       "<div>\n",
       "<style scoped>\n",
       "    .dataframe tbody tr th:only-of-type {\n",
       "        vertical-align: middle;\n",
       "    }\n",
       "\n",
       "    .dataframe tbody tr th {\n",
       "        vertical-align: top;\n",
       "    }\n",
       "\n",
       "    .dataframe thead th {\n",
       "        text-align: right;\n",
       "    }\n",
       "</style>\n",
       "<table border=\"1\" class=\"dataframe\">\n",
       "  <thead>\n",
       "    <tr style=\"text-align: right;\">\n",
       "      <th></th>\n",
       "      <th>consumption</th>\n",
       "      <th>wind</th>\n",
       "      <th>solar</th>\n",
       "      <th>wind_solar</th>\n",
       "      <th>month</th>\n",
       "      <th>year</th>\n",
       "    </tr>\n",
       "    <tr>\n",
       "      <th>date</th>\n",
       "      <th></th>\n",
       "      <th></th>\n",
       "      <th></th>\n",
       "      <th></th>\n",
       "      <th></th>\n",
       "      <th></th>\n",
       "    </tr>\n",
       "  </thead>\n",
       "  <tbody>\n",
       "    <tr>\n",
       "      <th>2006-01-01</th>\n",
       "      <td>1069.184</td>\n",
       "      <td>0.0</td>\n",
       "      <td>0.0</td>\n",
       "      <td>0.0</td>\n",
       "      <td>01-Jan</td>\n",
       "      <td>2006</td>\n",
       "    </tr>\n",
       "    <tr>\n",
       "      <th>2006-01-02</th>\n",
       "      <td>1380.521</td>\n",
       "      <td>0.0</td>\n",
       "      <td>0.0</td>\n",
       "      <td>0.0</td>\n",
       "      <td>01-Jan</td>\n",
       "      <td>2006</td>\n",
       "    </tr>\n",
       "    <tr>\n",
       "      <th>2006-01-03</th>\n",
       "      <td>1442.533</td>\n",
       "      <td>0.0</td>\n",
       "      <td>0.0</td>\n",
       "      <td>0.0</td>\n",
       "      <td>01-Jan</td>\n",
       "      <td>2006</td>\n",
       "    </tr>\n",
       "  </tbody>\n",
       "</table>\n",
       "</div>"
      ],
      "text/plain": [
       "            consumption  wind  solar  wind_solar   month  year\n",
       "date                                                          \n",
       "2006-01-01     1069.184   0.0    0.0         0.0  01-Jan  2006\n",
       "2006-01-02     1380.521   0.0    0.0         0.0  01-Jan  2006\n",
       "2006-01-03     1442.533   0.0    0.0         0.0  01-Jan  2006"
      ]
     },
     "execution_count": 36,
     "metadata": {},
     "output_type": "execute_result"
    }
   ],
   "source": [
    "df.head(3)"
   ]
  },
  {
   "cell_type": "code",
   "execution_count": null,
   "id": "f34e3837",
   "metadata": {},
   "outputs": [],
   "source": []
  }
 ],
 "metadata": {
  "kernelspec": {
   "display_name": "Python 3 (ipykernel)",
   "language": "python",
   "name": "python3"
  },
  "language_info": {
   "codemirror_mode": {
    "name": "ipython",
    "version": 3
   },
   "file_extension": ".py",
   "mimetype": "text/x-python",
   "name": "python",
   "nbconvert_exporter": "python",
   "pygments_lexer": "ipython3",
   "version": "3.9.7"
  }
 },
 "nbformat": 4,
 "nbformat_minor": 5
}
